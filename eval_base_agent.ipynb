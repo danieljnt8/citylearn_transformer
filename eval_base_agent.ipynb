{
 "cells": [
  {
   "cell_type": "code",
   "execution_count": 3,
   "id": "7653eb5b",
   "metadata": {
    "tags": []
   },
   "outputs": [],
   "source": [
    "import os\n",
    "from typing import Generic, Optional, SupportsFloat, Tuple, TypeVar, Union,Any\n",
    "import torch\n",
    "# import couple of libs some will be useful\n",
    "import gym\n",
    "import numpy as np\n",
    "from collections import deque\n",
    "import random\n",
    "import re\n",
    "import os\n",
    "import sys\n",
    "import time\n",
    "import json\n",
    "import torch as th\n",
    "import itertools\n",
    "from datasets import Dataset\n",
    "from _code.const import PATH_MODEL_SB,PATH_DATA_INTERACTIONS,PATH_LOSS\n",
    "from citylearn.agents.rbc import BasicRBC as BRBC\n",
    "from agents.rbc import RBCAgent1 \n",
    "# import stable_baselines3\n",
    "from stable_baselines3 import PPO, A2C, DDPG, TD3,SAC\n",
    "from stable_baselines3.common.utils import set_random_seed\n",
    "import citylearn\n",
    "from citylearn.citylearn import CityLearnEnv\n",
    "from pathlib import Path\n",
    "from rewards.combined_reward import CombinedReward\n",
    "from stable_baselines3.common.utils import set_random_seed\n",
    "ObsType = TypeVar(\"ObsType\")\n",
    "ActType = TypeVar(\"ActType\")\n",
    "\n",
    "import functools\n",
    "from citylearn.wrappers import *\n",
    "from utils.wrappers_custom import *\n",
    "from datasets import load_from_disk,concatenate_datasets,Dataset"
   ]
  },
  {
   "cell_type": "code",
   "execution_count": 4,
   "id": "a84ec854-6918-4134-a855-550bf80fb190",
   "metadata": {},
   "outputs": [],
   "source": [
    "dataset= load_from_disk(\"data_interactions/winner_dataset_phase_1.pkl\")"
   ]
  },
  {
   "cell_type": "code",
   "execution_count": 5,
   "id": "411abbd8",
   "metadata": {},
   "outputs": [],
   "source": [
    "#best_action = np.load(\"single_agent_dp.npy\",allow_pickle=True)\n",
    "actions = np.array(dataset[\"actions\"])"
   ]
  },
  {
   "cell_type": "code",
   "execution_count": 6,
   "id": "038b950b-e9c4-4f2c-8b6d-ebfcdf9e9beb",
   "metadata": {},
   "outputs": [],
   "source": [
    "actions = actions.reshape(5,-1).T"
   ]
  },
  {
   "cell_type": "code",
   "execution_count": 8,
   "id": "338c7dba-f27a-48c3-9d6c-37c914527175",
   "metadata": {},
   "outputs": [
    {
     "data": {
      "text/plain": [
       "(8759, 5)"
      ]
     },
     "execution_count": 8,
     "metadata": {},
     "output_type": "execute_result"
    }
   ],
   "source": [
    "actions.shape"
   ]
  },
  {
   "cell_type": "code",
   "execution_count": 20,
   "id": "93ebe803",
   "metadata": {},
   "outputs": [],
   "source": [
    "#best_action[:,0].reshape(best_action.shape[0],1).tolist()"
   ]
  },
  {
   "cell_type": "code",
   "execution_count": 21,
   "id": "807bd104",
   "metadata": {},
   "outputs": [],
   "source": [
    "def action_space_to_dict(aspace):\n",
    "    \"\"\" Only for box space \"\"\"\n",
    "    return {\"high\": aspace.high,\n",
    "            \"low\": aspace.low,\n",
    "            \"shape\": aspace.shape,\n",
    "            \"dtype\": str(aspace.dtype)\n",
    "            }\n",
    "\n",
    "\n",
    "def env_reset(env):\n",
    "    observations = env.reset()\n",
    "    action_space = env.action_space\n",
    "    observation_space = env.observation_space\n",
    "    #building_info = env.buildings()\n",
    "    #building_info = list(building_info.values())\n",
    "    action_space_dicts = [action_space_to_dict(asp) for asp in action_space]\n",
    "    observation_space_dicts = [action_space_to_dict(osp) for osp in observation_space]\n",
    "    obs_dict = {\"action_space\": action_space_dicts,\n",
    "                \"observation_space\": observation_space_dicts,\n",
    "                #\"building_info\": building_info,\n",
    "                \"observation\": observations}\n",
    "    return obs_dict"
   ]
  },
  {
   "cell_type": "code",
   "execution_count": 22,
   "id": "d9fe4a1c",
   "metadata": {},
   "outputs": [],
   "source": [
    "#env= CityLearnEnv(\"citylearn_challenge_2022_phase_3\",reward_function = RewardFunctionV1,buildings=[0,1,2,3,4,5,6])\n",
    "env= CityLearnEnv(\"citylearn_challenge_2022_phase_1\",reward_function = CombinedReward)\n",
    "env = NormalizedObservationWrapperCustom(env)\n",
    "env.central_agent = False\n",
    "env.central_agent = False\n",
    "agent= Agent()"
   ]
  },
  {
   "cell_type": "code",
   "execution_count": 23,
   "id": "1ff33455",
   "metadata": {},
   "outputs": [],
   "source": [
    "obs_dict = env_reset(env)\n"
   ]
  },
  {
   "cell_type": "code",
   "execution_count": 24,
   "id": "ee1cf596",
   "metadata": {},
   "outputs": [],
   "source": [
    "#len(obs_dict[\"observation\"][0])"
   ]
  },
  {
   "cell_type": "code",
   "execution_count": 25,
   "id": "9c5197e1",
   "metadata": {},
   "outputs": [],
   "source": [
    "#actions=agent.register_reset(obs_dict)"
   ]
  },
  {
   "cell_type": "code",
   "execution_count": 26,
   "id": "adce0946-924e-4a8c-a0f1-2719bce55910",
   "metadata": {},
   "outputs": [],
   "source": [
    "#env.current_obs"
   ]
  },
  {
   "cell_type": "code",
   "execution_count": 27,
   "id": "1c03c812",
   "metadata": {},
   "outputs": [],
   "source": [
    "#counter = 0 "
   ]
  },
  {
   "cell_type": "code",
   "execution_count": 28,
   "id": "e612ac04",
   "metadata": {},
   "outputs": [],
   "source": [
    "#actions = best_action[:,counter].reshape(best_action.shape[0],1).tolist()"
   ]
  },
  {
   "cell_type": "code",
   "execution_count": 29,
   "id": "d498ef04",
   "metadata": {},
   "outputs": [],
   "source": [
    "#best_action[:,1]"
   ]
  },
  {
   "cell_type": "code",
   "execution_count": 30,
   "id": "90560a74",
   "metadata": {},
   "outputs": [],
   "source": [
    "counter=0\n",
    "while True:\n",
    "    #counter=0\n",
    "    #actions = best_action[:,counter].reshape(best_action.shape[0],1).tolist()\n",
    "    #actions = [np.array(act) for act in actions]\n",
    "    observations,reward,done,_,_ = env.step(actions[counter].reshape(-1,1))\n",
    "    counter = counter + 1\n",
    "    \n",
    "    if done :\n",
    "        break\n",
    "    #else:\n",
    "        #actions= agent.compute_action(observations)"
   ]
  },
  {
   "cell_type": "code",
   "execution_count": 31,
   "id": "78594e7a-dbc3-459d-a78a-a933427cf9ef",
   "metadata": {},
   "outputs": [],
   "source": [
    "path_best = \"data_interactions/best_dataset_multi.pkl\""
   ]
  },
  {
   "cell_type": "code",
   "execution_count": 32,
   "id": "28f15e7c-e67c-42f0-8195-6137a1db0231",
   "metadata": {},
   "outputs": [],
   "source": [
    "data = env.dataset"
   ]
  },
  {
   "cell_type": "code",
   "execution_count": 33,
   "id": "0c93c6bd-9b00-4ef1-ac3c-62bd62e5823a",
   "metadata": {},
   "outputs": [
    {
     "name": "stderr",
     "output_type": "stream",
     "text": [
      "/home/ml-stud15/anaconda3/envs/stable3/lib/python3.9/site-packages/gymnasium/core.py:311: UserWarning: \u001b[33mWARN: env.evaluate to get variables from other wrappers is deprecated and will be removed in v1.0, to get this variable you can do `env.unwrapped.evaluate` for environment variables or `env.get_wrapper_attr('evaluate')` that will search the reminding wrappers.\u001b[0m\n",
      "  logger.warn(\n"
     ]
    },
    {
     "data": {
      "text/html": [
       "<div>\n",
       "<style scoped>\n",
       "    .dataframe tbody tr th:only-of-type {\n",
       "        vertical-align: middle;\n",
       "    }\n",
       "\n",
       "    .dataframe tbody tr th {\n",
       "        vertical-align: top;\n",
       "    }\n",
       "\n",
       "    .dataframe thead th {\n",
       "        text-align: right;\n",
       "    }\n",
       "</style>\n",
       "<table border=\"1\" class=\"dataframe\">\n",
       "  <thead>\n",
       "    <tr style=\"text-align: right;\">\n",
       "      <th></th>\n",
       "      <th>cost_function</th>\n",
       "      <th>value</th>\n",
       "      <th>name</th>\n",
       "      <th>level</th>\n",
       "    </tr>\n",
       "  </thead>\n",
       "  <tbody>\n",
       "    <tr>\n",
       "      <th>0</th>\n",
       "      <td>all_time_peak_average</td>\n",
       "      <td>0.834516</td>\n",
       "      <td>District</td>\n",
       "      <td>district</td>\n",
       "    </tr>\n",
       "    <tr>\n",
       "      <th>1</th>\n",
       "      <td>annual_normalized_unserved_energy_total</td>\n",
       "      <td>0.000000</td>\n",
       "      <td>District</td>\n",
       "      <td>district</td>\n",
       "    </tr>\n",
       "    <tr>\n",
       "      <th>2</th>\n",
       "      <td>carbon_emissions_total</td>\n",
       "      <td>0.830535</td>\n",
       "      <td>District</td>\n",
       "      <td>district</td>\n",
       "    </tr>\n",
       "    <tr>\n",
       "      <th>3</th>\n",
       "      <td>cost_total</td>\n",
       "      <td>0.730419</td>\n",
       "      <td>District</td>\n",
       "      <td>district</td>\n",
       "    </tr>\n",
       "    <tr>\n",
       "      <th>4</th>\n",
       "      <td>daily_one_minus_load_factor_average</td>\n",
       "      <td>0.908881</td>\n",
       "      <td>District</td>\n",
       "      <td>district</td>\n",
       "    </tr>\n",
       "    <tr>\n",
       "      <th>...</th>\n",
       "      <td>...</td>\n",
       "      <td>...</td>\n",
       "      <td>...</td>\n",
       "      <td>...</td>\n",
       "    </tr>\n",
       "    <tr>\n",
       "      <th>96</th>\n",
       "      <td>discomfort_hot_delta_maximum</td>\n",
       "      <td>0.000000</td>\n",
       "      <td>Building_5</td>\n",
       "      <td>building</td>\n",
       "    </tr>\n",
       "    <tr>\n",
       "      <th>97</th>\n",
       "      <td>discomfort_hot_delta_average</td>\n",
       "      <td>0.000000</td>\n",
       "      <td>Building_5</td>\n",
       "      <td>building</td>\n",
       "    </tr>\n",
       "    <tr>\n",
       "      <th>98</th>\n",
       "      <td>one_minus_thermal_resilience_proportion</td>\n",
       "      <td>NaN</td>\n",
       "      <td>Building_5</td>\n",
       "      <td>building</td>\n",
       "    </tr>\n",
       "    <tr>\n",
       "      <th>99</th>\n",
       "      <td>power_outage_normalized_unserved_energy_total</td>\n",
       "      <td>NaN</td>\n",
       "      <td>Building_5</td>\n",
       "      <td>building</td>\n",
       "    </tr>\n",
       "    <tr>\n",
       "      <th>100</th>\n",
       "      <td>annual_normalized_unserved_energy_total</td>\n",
       "      <td>0.000000</td>\n",
       "      <td>Building_5</td>\n",
       "      <td>building</td>\n",
       "    </tr>\n",
       "  </tbody>\n",
       "</table>\n",
       "<p>101 rows × 4 columns</p>\n",
       "</div>"
      ],
      "text/plain": [
       "                                     cost_function     value        name  \\\n",
       "0                            all_time_peak_average  0.834516    District   \n",
       "1          annual_normalized_unserved_energy_total  0.000000    District   \n",
       "2                           carbon_emissions_total  0.830535    District   \n",
       "3                                       cost_total  0.730419    District   \n",
       "4              daily_one_minus_load_factor_average  0.908881    District   \n",
       "..                                             ...       ...         ...   \n",
       "96                    discomfort_hot_delta_maximum  0.000000  Building_5   \n",
       "97                    discomfort_hot_delta_average  0.000000  Building_5   \n",
       "98         one_minus_thermal_resilience_proportion       NaN  Building_5   \n",
       "99   power_outage_normalized_unserved_energy_total       NaN  Building_5   \n",
       "100        annual_normalized_unserved_energy_total  0.000000  Building_5   \n",
       "\n",
       "        level  \n",
       "0    district  \n",
       "1    district  \n",
       "2    district  \n",
       "3    district  \n",
       "4    district  \n",
       "..        ...  \n",
       "96   building  \n",
       "97   building  \n",
       "98   building  \n",
       "99   building  \n",
       "100  building  \n",
       "\n",
       "[101 rows x 4 columns]"
      ]
     },
     "execution_count": 33,
     "metadata": {},
     "output_type": "execute_result"
    }
   ],
   "source": [
    "env.evaluate()"
   ]
  },
  {
   "cell_type": "code",
   "execution_count": 34,
   "id": "ac937e05-6d0a-42b5-9a77-6ffc790629b4",
   "metadata": {},
   "outputs": [
    {
     "data": {
      "application/vnd.jupyter.widget-view+json": {
       "model_id": "775f7f3665f949f5abc86436e2a8310c",
       "version_major": 2,
       "version_minor": 0
      },
      "text/plain": [
       "Saving the dataset (0/1 shards):   0%|          | 0/8759 [00:00<?, ? examples/s]"
      ]
     },
     "metadata": {},
     "output_type": "display_data"
    }
   ],
   "source": [
    "Dataset.from_dict({k: [s[k] for s in data] for k in data[0].keys()}).save_to_disk(path_best)"
   ]
  },
  {
   "cell_type": "code",
   "execution_count": null,
   "id": "026b12db",
   "metadata": {},
   "outputs": [],
   "source": [
    "env.df_ts_eval.to_csv(\"data_result/RBC/train_TS.csv\")"
   ]
  },
  {
   "cell_type": "code",
   "execution_count": 13,
   "id": "9fb5738e",
   "metadata": {},
   "outputs": [
    {
     "name": "stderr",
     "output_type": "stream",
     "text": [
      "/home/ml-stud15/anaconda3/envs/stable3/lib/python3.9/site-packages/gymnasium/core.py:311: UserWarning: \u001b[33mWARN: env.evaluate to get variables from other wrappers is deprecated and will be removed in v1.0, to get this variable you can do `env.unwrapped.evaluate` for environment variables or `env.get_wrapper_attr('evaluate')` that will search the reminding wrappers.\u001b[0m\n",
      "  logger.warn(\n"
     ]
    },
    {
     "data": {
      "text/html": [
       "<div>\n",
       "<style scoped>\n",
       "    .dataframe tbody tr th:only-of-type {\n",
       "        vertical-align: middle;\n",
       "    }\n",
       "\n",
       "    .dataframe tbody tr th {\n",
       "        vertical-align: top;\n",
       "    }\n",
       "\n",
       "    .dataframe thead th {\n",
       "        text-align: right;\n",
       "    }\n",
       "</style>\n",
       "<table border=\"1\" class=\"dataframe\">\n",
       "  <thead>\n",
       "    <tr style=\"text-align: right;\">\n",
       "      <th>name</th>\n",
       "      <th>Building_1</th>\n",
       "      <th>Building_2</th>\n",
       "      <th>Building_3</th>\n",
       "      <th>Building_4</th>\n",
       "      <th>Building_5</th>\n",
       "      <th>District</th>\n",
       "    </tr>\n",
       "    <tr>\n",
       "      <th>cost_function</th>\n",
       "      <th></th>\n",
       "      <th></th>\n",
       "      <th></th>\n",
       "      <th></th>\n",
       "      <th></th>\n",
       "      <th></th>\n",
       "    </tr>\n",
       "  </thead>\n",
       "  <tbody>\n",
       "    <tr>\n",
       "      <th>all_time_peak_average</th>\n",
       "      <td>NaN</td>\n",
       "      <td>NaN</td>\n",
       "      <td>NaN</td>\n",
       "      <td>NaN</td>\n",
       "      <td>NaN</td>\n",
       "      <td>0.569</td>\n",
       "    </tr>\n",
       "    <tr>\n",
       "      <th>annual_normalized_unserved_energy_total</th>\n",
       "      <td>0.000</td>\n",
       "      <td>0.000</td>\n",
       "      <td>0.000</td>\n",
       "      <td>0.000</td>\n",
       "      <td>0.000</td>\n",
       "      <td>0.000</td>\n",
       "    </tr>\n",
       "    <tr>\n",
       "      <th>carbon_emissions_total</th>\n",
       "      <td>0.752</td>\n",
       "      <td>0.787</td>\n",
       "      <td>0.675</td>\n",
       "      <td>0.897</td>\n",
       "      <td>0.758</td>\n",
       "      <td>0.774</td>\n",
       "    </tr>\n",
       "    <tr>\n",
       "      <th>cost_total</th>\n",
       "      <td>0.706</td>\n",
       "      <td>0.745</td>\n",
       "      <td>0.638</td>\n",
       "      <td>0.870</td>\n",
       "      <td>0.692</td>\n",
       "      <td>0.730</td>\n",
       "    </tr>\n",
       "    <tr>\n",
       "      <th>daily_one_minus_load_factor_average</th>\n",
       "      <td>NaN</td>\n",
       "      <td>NaN</td>\n",
       "      <td>NaN</td>\n",
       "      <td>NaN</td>\n",
       "      <td>NaN</td>\n",
       "      <td>0.807</td>\n",
       "    </tr>\n",
       "    <tr>\n",
       "      <th>daily_peak_average</th>\n",
       "      <td>NaN</td>\n",
       "      <td>NaN</td>\n",
       "      <td>NaN</td>\n",
       "      <td>NaN</td>\n",
       "      <td>NaN</td>\n",
       "      <td>0.502</td>\n",
       "    </tr>\n",
       "    <tr>\n",
       "      <th>discomfort_cold_delta_average</th>\n",
       "      <td>0.000</td>\n",
       "      <td>0.000</td>\n",
       "      <td>0.000</td>\n",
       "      <td>0.000</td>\n",
       "      <td>0.000</td>\n",
       "      <td>0.000</td>\n",
       "    </tr>\n",
       "    <tr>\n",
       "      <th>discomfort_cold_delta_maximum</th>\n",
       "      <td>0.000</td>\n",
       "      <td>0.000</td>\n",
       "      <td>0.000</td>\n",
       "      <td>0.000</td>\n",
       "      <td>0.000</td>\n",
       "      <td>0.000</td>\n",
       "    </tr>\n",
       "    <tr>\n",
       "      <th>discomfort_cold_delta_minimum</th>\n",
       "      <td>0.000</td>\n",
       "      <td>0.000</td>\n",
       "      <td>0.000</td>\n",
       "      <td>0.000</td>\n",
       "      <td>0.000</td>\n",
       "      <td>0.000</td>\n",
       "    </tr>\n",
       "    <tr>\n",
       "      <th>discomfort_hot_delta_average</th>\n",
       "      <td>0.000</td>\n",
       "      <td>0.000</td>\n",
       "      <td>0.000</td>\n",
       "      <td>0.000</td>\n",
       "      <td>0.000</td>\n",
       "      <td>0.000</td>\n",
       "    </tr>\n",
       "    <tr>\n",
       "      <th>discomfort_hot_delta_maximum</th>\n",
       "      <td>0.000</td>\n",
       "      <td>0.000</td>\n",
       "      <td>0.000</td>\n",
       "      <td>0.000</td>\n",
       "      <td>0.000</td>\n",
       "      <td>0.000</td>\n",
       "    </tr>\n",
       "    <tr>\n",
       "      <th>discomfort_hot_delta_minimum</th>\n",
       "      <td>0.000</td>\n",
       "      <td>0.000</td>\n",
       "      <td>0.000</td>\n",
       "      <td>0.000</td>\n",
       "      <td>0.000</td>\n",
       "      <td>0.000</td>\n",
       "    </tr>\n",
       "    <tr>\n",
       "      <th>electricity_consumption_total</th>\n",
       "      <td>0.764</td>\n",
       "      <td>0.787</td>\n",
       "      <td>0.669</td>\n",
       "      <td>0.875</td>\n",
       "      <td>0.762</td>\n",
       "      <td>0.771</td>\n",
       "    </tr>\n",
       "    <tr>\n",
       "      <th>monthly_one_minus_load_factor_average</th>\n",
       "      <td>NaN</td>\n",
       "      <td>NaN</td>\n",
       "      <td>NaN</td>\n",
       "      <td>NaN</td>\n",
       "      <td>NaN</td>\n",
       "      <td>0.854</td>\n",
       "    </tr>\n",
       "    <tr>\n",
       "      <th>ramping_average</th>\n",
       "      <td>NaN</td>\n",
       "      <td>NaN</td>\n",
       "      <td>NaN</td>\n",
       "      <td>NaN</td>\n",
       "      <td>NaN</td>\n",
       "      <td>0.240</td>\n",
       "    </tr>\n",
       "    <tr>\n",
       "      <th>zero_net_energy</th>\n",
       "      <td>1.131</td>\n",
       "      <td>1.109</td>\n",
       "      <td>1.298</td>\n",
       "      <td>1.080</td>\n",
       "      <td>1.144</td>\n",
       "      <td>1.152</td>\n",
       "    </tr>\n",
       "  </tbody>\n",
       "</table>\n",
       "</div>"
      ],
      "text/plain": [
       "name                                     Building_1  Building_2  Building_3  \\\n",
       "cost_function                                                                 \n",
       "all_time_peak_average                           NaN         NaN         NaN   \n",
       "annual_normalized_unserved_energy_total       0.000       0.000       0.000   \n",
       "carbon_emissions_total                        0.752       0.787       0.675   \n",
       "cost_total                                    0.706       0.745       0.638   \n",
       "daily_one_minus_load_factor_average             NaN         NaN         NaN   \n",
       "daily_peak_average                              NaN         NaN         NaN   \n",
       "discomfort_cold_delta_average                 0.000       0.000       0.000   \n",
       "discomfort_cold_delta_maximum                 0.000       0.000       0.000   \n",
       "discomfort_cold_delta_minimum                 0.000       0.000       0.000   \n",
       "discomfort_hot_delta_average                  0.000       0.000       0.000   \n",
       "discomfort_hot_delta_maximum                  0.000       0.000       0.000   \n",
       "discomfort_hot_delta_minimum                  0.000       0.000       0.000   \n",
       "electricity_consumption_total                 0.764       0.787       0.669   \n",
       "monthly_one_minus_load_factor_average           NaN         NaN         NaN   \n",
       "ramping_average                                 NaN         NaN         NaN   \n",
       "zero_net_energy                               1.131       1.109       1.298   \n",
       "\n",
       "name                                     Building_4  Building_5  District  \n",
       "cost_function                                                              \n",
       "all_time_peak_average                           NaN         NaN     0.569  \n",
       "annual_normalized_unserved_energy_total       0.000       0.000     0.000  \n",
       "carbon_emissions_total                        0.897       0.758     0.774  \n",
       "cost_total                                    0.870       0.692     0.730  \n",
       "daily_one_minus_load_factor_average             NaN         NaN     0.807  \n",
       "daily_peak_average                              NaN         NaN     0.502  \n",
       "discomfort_cold_delta_average                 0.000       0.000     0.000  \n",
       "discomfort_cold_delta_maximum                 0.000       0.000     0.000  \n",
       "discomfort_cold_delta_minimum                 0.000       0.000     0.000  \n",
       "discomfort_hot_delta_average                  0.000       0.000     0.000  \n",
       "discomfort_hot_delta_maximum                  0.000       0.000     0.000  \n",
       "discomfort_hot_delta_minimum                  0.000       0.000     0.000  \n",
       "electricity_consumption_total                 0.875       0.762     0.771  \n",
       "monthly_one_minus_load_factor_average           NaN         NaN     0.854  \n",
       "ramping_average                                 NaN         NaN     0.240  \n",
       "zero_net_energy                               1.080       1.144     1.152  "
      ]
     },
     "metadata": {},
     "output_type": "display_data"
    }
   ],
   "source": [
    "kpis_rbc = env.evaluate()\n",
    "kpis_rbc = kpis_rbc.pivot(index='cost_function', columns='name', values='value').round(3)\n",
    "kpis_rbc = kpis_rbc.dropna(how='all')\n",
    "display(kpis_rbc)"
   ]
  },
  {
   "cell_type": "code",
   "execution_count": null,
   "id": "1fad8206",
   "metadata": {},
   "outputs": [],
   "source": [
    "env"
   ]
  },
  {
   "cell_type": "code",
   "execution_count": null,
   "id": "6e79b7f2",
   "metadata": {},
   "outputs": [],
   "source": [
    "from stable_baselines3.sac import SAC as Agent\n",
    "from citylearn.citylearn import CityLearnEnv\n",
    "from citylearn.wrappers import NormalizedObservationWrapper, StableBaselines3Wrapper\n"
   ]
  },
  {
   "cell_type": "code",
   "execution_count": null,
   "id": "685fee2d",
   "metadata": {},
   "outputs": [],
   "source": [
    "env = CityLearnEnv('citylearn_challenge_2023_phase_2_local_evaluation', central_agent=True)\n",
    "env = NormalizedObservationWrapper(env)\n",
    "env = StableBaselines3Wrapper(env)\n",
    "model = Agent('MlpPolicy', env)"
   ]
  },
  {
   "cell_type": "code",
   "execution_count": null,
   "id": "d4885d9c",
   "metadata": {},
   "outputs": [],
   "source": [
    "episodes =50\n",
    "model.learn(total_timesteps=env.unwrapped.time_steps*episodes)\n"
   ]
  },
  {
   "cell_type": "code",
   "execution_count": null,
   "id": "3aa1ae91",
   "metadata": {},
   "outputs": [],
   "source": [
    "# test\n",
    "observations= env.reset()\n",
    "steps = 0\n",
    "while True:\n",
    "    actions, _ = model.predict(observations, deterministic=True)\n",
    "    observations, _, done,_ = env.step(actions)\n",
    "    steps +=1\n",
    "    if done == True:\n",
    "        break\n",
    "\n"
   ]
  },
  {
   "cell_type": "code",
   "execution_count": null,
   "id": "92e234f5",
   "metadata": {},
   "outputs": [],
   "source": [
    "steps"
   ]
  },
  {
   "cell_type": "code",
   "execution_count": null,
   "id": "e64b63da",
   "metadata": {},
   "outputs": [],
   "source": [
    "kpis = env.unwrapped.evaluate()\n",
    "kpis = kpis.pivot(index='cost_function', columns='name', values='value').round(3)\n",
    "kpis = kpis.dropna(how='all')\n",
    "display(kpis)"
   ]
  },
  {
   "cell_type": "markdown",
   "id": "0c1cdfb4-9f54-44e6-be72-f37c53ec877e",
   "metadata": {},
   "source": [
    "## Data Interactions"
   ]
  },
  {
   "cell_type": "code",
   "execution_count": 5,
   "id": "5b99d616-f768-4d38-baa2-3e96111143e1",
   "metadata": {},
   "outputs": [],
   "source": [
    "from datasets import load_from_disk,concatenate_datasets,Dataset"
   ]
  },
  {
   "cell_type": "code",
   "execution_count": 6,
   "id": "2c0ecab5-fe16-4099-a37f-6baf51657e44",
   "metadata": {},
   "outputs": [],
   "source": [
    "dataset_best= load_from_disk(\"data_interactions/best_dataset_multi.pkl\")\n",
    "dataset_rbc = load_from_disk(\"data_interactions/RBCAgent1/model_RBCAgent1_timesteps_8760_rf_CombinedReward_phase_1.pkl\")"
   ]
  },
  {
   "cell_type": "code",
   "execution_count": 13,
   "id": "711a7df7-a1f4-4e8f-a2de-b025a312c2e2",
   "metadata": {},
   "outputs": [
    {
     "data": {
      "text/plain": [
       "Dataset({\n",
       "    features: ['observations', 'next_observations', 'actions', 'rewards', 'dones', 'info'],\n",
       "    num_rows: 8759\n",
       "})"
      ]
     },
     "execution_count": 13,
     "metadata": {},
     "output_type": "execute_result"
    }
   ],
   "source": [
    "dataset_best"
   ]
  },
  {
   "cell_type": "code",
   "execution_count": 19,
   "id": "d62dfafb-132a-44af-b25d-020a852e4b43",
   "metadata": {},
   "outputs": [
    {
     "ename": "NameError",
     "evalue": "name 'dataset_dones' is not defined",
     "output_type": "error",
     "traceback": [
      "\u001b[0;31m---------------------------------------------------------------------------\u001b[0m",
      "\u001b[0;31mNameError\u001b[0m                                 Traceback (most recent call last)",
      "Cell \u001b[0;32mIn[19], line 1\u001b[0m\n\u001b[0;32m----> 1\u001b[0m np\u001b[38;5;241m.\u001b[39marray(\u001b[43mdataset_dones\u001b[49m[\u001b[38;5;124m\"\u001b[39m\u001b[38;5;124mrewards\u001b[39m\u001b[38;5;124m\"\u001b[39m])\u001b[38;5;241m.\u001b[39mshape\n",
      "\u001b[0;31mNameError\u001b[0m: name 'dataset_dones' is not defined"
     ]
    }
   ],
   "source": [
    "np.array(dataset_dones[\"rewards\"]).shape"
   ]
  },
  {
   "cell_type": "code",
   "execution_count": 36,
   "id": "85fb2e8b-6e93-47a5-aa84-cee7cc69cf97",
   "metadata": {},
   "outputs": [],
   "source": [
    "combined_dataset = concatenate_datasets([dataset_best,dataset_rbc])"
   ]
  },
  {
   "cell_type": "code",
   "execution_count": 37,
   "id": "8980efc8-cf80-4536-b11f-c220eeca7125",
   "metadata": {},
   "outputs": [],
   "source": [
    "combined_path = (\"data_interactions/combined_dataset_multi_agent.pkl\")"
   ]
  },
  {
   "cell_type": "code",
   "execution_count": 38,
   "id": "721ba341-c0c0-4dd2-8e62-4f41c14cdc4c",
   "metadata": {},
   "outputs": [
    {
     "data": {
      "application/vnd.jupyter.widget-view+json": {
       "model_id": "c38a8083cfa44292a9787c42579b0edd",
       "version_major": 2,
       "version_minor": 0
      },
      "text/plain": [
       "Saving the dataset (0/1 shards):   0%|          | 0/17518 [00:00<?, ? examples/s]"
      ]
     },
     "metadata": {},
     "output_type": "display_data"
    }
   ],
   "source": [
    "Dataset.from_dict({k: [s[k] for s in combined_dataset] for k in combined_dataset[0].keys()}).save_to_disk(combined_path)\n"
   ]
  },
  {
   "cell_type": "code",
   "execution_count": null,
   "id": "eab093fc-6102-44d1-a9df-8dcb97cc643c",
   "metadata": {},
   "outputs": [],
   "source": []
  }
 ],
 "metadata": {
  "kernelspec": {
   "display_name": "Python 3 (ipykernel)",
   "language": "python",
   "name": "python3"
  },
  "language_info": {
   "codemirror_mode": {
    "name": "ipython",
    "version": 3
   },
   "file_extension": ".py",
   "mimetype": "text/x-python",
   "name": "python",
   "nbconvert_exporter": "python",
   "pygments_lexer": "ipython3",
   "version": "3.9.12"
  }
 },
 "nbformat": 4,
 "nbformat_minor": 5
}
