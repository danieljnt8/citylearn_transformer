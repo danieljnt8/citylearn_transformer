{
 "cells": [
  {
   "cell_type": "code",
   "execution_count": 24,
   "id": "5efd81a2-e368-4345-8fc8-90306133a4d1",
   "metadata": {},
   "outputs": [],
   "source": [
    "from datasets import load_from_disk\n",
    "from datasets import concatenate_datasets\n",
    "import numpy as np"
   ]
  },
  {
   "cell_type": "code",
   "execution_count": 25,
   "id": "a205d512-2754-4e72-8d31-02d46ec544f8",
   "metadata": {},
   "outputs": [],
   "source": [
    "data_path_1 = \"data_interactions/RBCAgent1/model_RBCAgent1_timesteps_100000_rf_CombinedReward_seed_28_norm_wrapper.pkl\"\n",
    "data_path_2 = \"data_interactions/PPO/model_PPO_timesteps_100000_rf_CombinedReward_seed_28_norm_wrapper.pkl\"\n",
    "data_path_3 = \"data_interactions/SAC/model_SAC_timesteps_100000_rf_CombinedReward_seed_28_norm_wrapper.pkl\""
   ]
  },
  {
   "cell_type": "code",
   "execution_count": 26,
   "id": "591485c0-d58c-4175-859b-aea0c5b0384e",
   "metadata": {},
   "outputs": [],
   "source": [
    "data1 = load_from_disk(data_path_1)\n",
    "data2 = load_from_disk(data_path_2)\n",
    "data3 = load_from_disk(data_path_3)"
   ]
  },
  {
   "cell_type": "code",
   "execution_count": 27,
   "id": "7b03525a-a224-4428-b07d-7380abf3a4c3",
   "metadata": {},
   "outputs": [],
   "source": [
    "def change_info_to_empty(example):\n",
    "    example['info'] = {}\n",
    "    return example"
   ]
  },
  {
   "cell_type": "code",
   "execution_count": 50,
   "id": "6bb06b9d-c015-4113-bd78-c6e6237e48a6",
   "metadata": {},
   "outputs": [
    {
     "data": {
      "application/vnd.jupyter.widget-view+json": {
       "model_id": "ff85d27715d04cbda4a315f1db13c750",
       "version_major": 2,
       "version_minor": 0
      },
      "text/plain": [
       "Map:   0%|          | 0/100000 [00:00<?, ? examples/s]"
      ]
     },
     "metadata": {},
     "output_type": "display_data"
    }
   ],
   "source": [
    "data3 = data3.map(change_info_to_empty)"
   ]
  },
  {
   "cell_type": "code",
   "execution_count": null,
   "id": "6427e184-f28b-482c-bbd7-4c8f7dc14313",
   "metadata": {},
   "outputs": [],
   "source": []
  },
  {
   "cell_type": "code",
   "execution_count": 54,
   "id": "a45e09a8-3ac2-4493-a5e4-97ee48dc7c88",
   "metadata": {},
   "outputs": [
    {
     "ename": "ValueError",
     "evalue": "The features can't be aligned because the key observations of features {'observations': Sequence(feature=Value(dtype='float32', id=None), length=-1, id=None), 'next_observations': Sequence(feature=Value(dtype='float32', id=None), length=-1, id=None), 'actions': Sequence(feature=Value(dtype='float32', id=None), length=-1, id=None), 'rewards': Value(dtype='float64', id=None), 'dones': Value(dtype='bool', id=None), 'info': {}} has unexpected type - Sequence(feature=Value(dtype='float32', id=None), length=-1, id=None) (expected either Sequence(feature=Value(dtype='float64', id=None), length=-1, id=None) or Value(\"null\").",
     "output_type": "error",
     "traceback": [
      "\u001b[0;31m---------------------------------------------------------------------------\u001b[0m",
      "\u001b[0;31mValueError\u001b[0m                                Traceback (most recent call last)",
      "Cell \u001b[0;32mIn[54], line 1\u001b[0m\n\u001b[0;32m----> 1\u001b[0m \u001b[43mconcatenate_datasets\u001b[49m\u001b[43m(\u001b[49m\u001b[43m[\u001b[49m\u001b[43mdata1\u001b[49m\u001b[43m,\u001b[49m\u001b[43mdata3\u001b[49m\u001b[43m]\u001b[49m\u001b[43m)\u001b[49m\n",
      "File \u001b[0;32m~/anaconda3/envs/stable2/lib/python3.9/site-packages/datasets/combine.py:213\u001b[0m, in \u001b[0;36mconcatenate_datasets\u001b[0;34m(dsets, info, split, axis)\u001b[0m\n\u001b[1;32m    209\u001b[0m         \u001b[38;5;28;01mraise\u001b[39;00m \u001b[38;5;167;01mValueError\u001b[39;00m(\n\u001b[1;32m    210\u001b[0m             \u001b[38;5;124mf\u001b[39m\u001b[38;5;124m\"\u001b[39m\u001b[38;5;124mUnable to interleave a \u001b[39m\u001b[38;5;132;01m{\u001b[39;00mdataset_type\u001b[38;5;241m.\u001b[39m\u001b[38;5;18m__name__\u001b[39m\u001b[38;5;132;01m}\u001b[39;00m\u001b[38;5;124m (at position 0) with a \u001b[39m\u001b[38;5;132;01m{\u001b[39;00mother_type\u001b[38;5;241m.\u001b[39m\u001b[38;5;18m__name__\u001b[39m\u001b[38;5;132;01m}\u001b[39;00m\u001b[38;5;124m (at position \u001b[39m\u001b[38;5;132;01m{\u001b[39;00mi\u001b[38;5;132;01m}\u001b[39;00m\u001b[38;5;124m). Expected a list of Dataset objects or a list of IterableDataset objects.\u001b[39m\u001b[38;5;124m\"\u001b[39m\n\u001b[1;32m    211\u001b[0m         )\n\u001b[1;32m    212\u001b[0m \u001b[38;5;28;01mif\u001b[39;00m dataset_type \u001b[38;5;129;01mis\u001b[39;00m Dataset:\n\u001b[0;32m--> 213\u001b[0m     \u001b[38;5;28;01mreturn\u001b[39;00m \u001b[43m_concatenate_map_style_datasets\u001b[49m\u001b[43m(\u001b[49m\u001b[43mdsets\u001b[49m\u001b[43m,\u001b[49m\u001b[43m \u001b[49m\u001b[43minfo\u001b[49m\u001b[38;5;241;43m=\u001b[39;49m\u001b[43minfo\u001b[49m\u001b[43m,\u001b[49m\u001b[43m \u001b[49m\u001b[43msplit\u001b[49m\u001b[38;5;241;43m=\u001b[39;49m\u001b[43msplit\u001b[49m\u001b[43m,\u001b[49m\u001b[43m \u001b[49m\u001b[43maxis\u001b[49m\u001b[38;5;241;43m=\u001b[39;49m\u001b[43maxis\u001b[49m\u001b[43m)\u001b[49m\n\u001b[1;32m    214\u001b[0m \u001b[38;5;28;01melse\u001b[39;00m:\n\u001b[1;32m    215\u001b[0m     \u001b[38;5;28;01mreturn\u001b[39;00m _concatenate_iterable_datasets(dsets, info\u001b[38;5;241m=\u001b[39minfo, split\u001b[38;5;241m=\u001b[39msplit, axis\u001b[38;5;241m=\u001b[39maxis)\n",
      "File \u001b[0;32m~/anaconda3/envs/stable2/lib/python3.9/site-packages/datasets/arrow_dataset.py:6234\u001b[0m, in \u001b[0;36m_concatenate_map_style_datasets\u001b[0;34m(dsets, info, split, axis)\u001b[0m\n\u001b[1;32m   6232\u001b[0m \u001b[38;5;66;03m# Perform checks (and a potentional cast if axis=0)\u001b[39;00m\n\u001b[1;32m   6233\u001b[0m \u001b[38;5;28;01mif\u001b[39;00m axis \u001b[38;5;241m==\u001b[39m \u001b[38;5;241m0\u001b[39m:\n\u001b[0;32m-> 6234\u001b[0m     \u001b[43m_check_if_features_can_be_aligned\u001b[49m\u001b[43m(\u001b[49m\u001b[43m[\u001b[49m\u001b[43mdset\u001b[49m\u001b[38;5;241;43m.\u001b[39;49m\u001b[43mfeatures\u001b[49m\u001b[43m \u001b[49m\u001b[38;5;28;43;01mfor\u001b[39;49;00m\u001b[43m \u001b[49m\u001b[43mdset\u001b[49m\u001b[43m \u001b[49m\u001b[38;5;129;43;01min\u001b[39;49;00m\u001b[43m \u001b[49m\u001b[43mdsets\u001b[49m\u001b[43m]\u001b[49m\u001b[43m)\u001b[49m\n\u001b[1;32m   6235\u001b[0m \u001b[38;5;28;01melse\u001b[39;00m:\n\u001b[1;32m   6236\u001b[0m     \u001b[38;5;28;01mif\u001b[39;00m \u001b[38;5;129;01mnot\u001b[39;00m \u001b[38;5;28mall\u001b[39m(dset\u001b[38;5;241m.\u001b[39mnum_rows \u001b[38;5;241m==\u001b[39m dsets[\u001b[38;5;241m0\u001b[39m]\u001b[38;5;241m.\u001b[39mnum_rows \u001b[38;5;28;01mfor\u001b[39;00m dset \u001b[38;5;129;01min\u001b[39;00m dsets):\n",
      "File \u001b[0;32m~/anaconda3/envs/stable2/lib/python3.9/site-packages/datasets/features/features.py:2200\u001b[0m, in \u001b[0;36m_check_if_features_can_be_aligned\u001b[0;34m(features_list)\u001b[0m\n\u001b[1;32m   2198\u001b[0m     _check_if_features_can_be_aligned([name2feature[k], v])\n\u001b[1;32m   2199\u001b[0m \u001b[38;5;28;01melif\u001b[39;00m \u001b[38;5;129;01mnot\u001b[39;00m (\u001b[38;5;28misinstance\u001b[39m(v, Value) \u001b[38;5;129;01mand\u001b[39;00m v\u001b[38;5;241m.\u001b[39mdtype \u001b[38;5;241m==\u001b[39m \u001b[38;5;124m\"\u001b[39m\u001b[38;5;124mnull\u001b[39m\u001b[38;5;124m\"\u001b[39m) \u001b[38;5;129;01mand\u001b[39;00m name2feature[k] \u001b[38;5;241m!=\u001b[39m v:\n\u001b[0;32m-> 2200\u001b[0m     \u001b[38;5;28;01mraise\u001b[39;00m \u001b[38;5;167;01mValueError\u001b[39;00m(\n\u001b[1;32m   2201\u001b[0m         \u001b[38;5;124mf\u001b[39m\u001b[38;5;124m'\u001b[39m\u001b[38;5;124mThe features can\u001b[39m\u001b[38;5;130;01m\\'\u001b[39;00m\u001b[38;5;124mt be aligned because the key \u001b[39m\u001b[38;5;132;01m{\u001b[39;00mk\u001b[38;5;132;01m}\u001b[39;00m\u001b[38;5;124m of features \u001b[39m\u001b[38;5;132;01m{\u001b[39;00mfeatures\u001b[38;5;132;01m}\u001b[39;00m\u001b[38;5;124m has unexpected type - \u001b[39m\u001b[38;5;132;01m{\u001b[39;00mv\u001b[38;5;132;01m}\u001b[39;00m\u001b[38;5;124m (expected either \u001b[39m\u001b[38;5;132;01m{\u001b[39;00mname2feature[k]\u001b[38;5;132;01m}\u001b[39;00m\u001b[38;5;124m or Value(\u001b[39m\u001b[38;5;124m\"\u001b[39m\u001b[38;5;124mnull\u001b[39m\u001b[38;5;124m\"\u001b[39m\u001b[38;5;124m).\u001b[39m\u001b[38;5;124m'\u001b[39m\n\u001b[1;32m   2202\u001b[0m     )\n",
      "\u001b[0;31mValueError\u001b[0m: The features can't be aligned because the key observations of features {'observations': Sequence(feature=Value(dtype='float32', id=None), length=-1, id=None), 'next_observations': Sequence(feature=Value(dtype='float32', id=None), length=-1, id=None), 'actions': Sequence(feature=Value(dtype='float32', id=None), length=-1, id=None), 'rewards': Value(dtype='float64', id=None), 'dones': Value(dtype='bool', id=None), 'info': {}} has unexpected type - Sequence(feature=Value(dtype='float32', id=None), length=-1, id=None) (expected either Sequence(feature=Value(dtype='float64', id=None), length=-1, id=None) or Value(\"null\")."
     ]
    }
   ],
   "source": [
    "concatenate_datasets([data1,data3])"
   ]
  },
  {
   "cell_type": "code",
   "execution_count": 53,
   "id": "b52cf2a1-a5b1-4cb5-88f7-f63f617e89d7",
   "metadata": {},
   "outputs": [],
   "source": [
    "dataset = data1.map(lambda example: {\n",
    "    'observations': np.array(example['observations'], dtype=np.float64),\n",
    "    'next_observations': np.array(example['next_observations'], dtype=np.float64),\n",
    "    'actions': np.array(example['actions'], dtype=np.float64),\n",
    "})"
   ]
  },
  {
   "cell_type": "code",
   "execution_count": 18,
   "id": "d7253491-c80a-4e3b-94ac-16ff1071a530",
   "metadata": {},
   "outputs": [
    {
     "data": {
      "application/vnd.jupyter.widget-view+json": {
       "model_id": "cf93ce373dbc418292403c9212e41987",
       "version_major": 2,
       "version_minor": 0
      },
      "text/plain": [
       "Map:   0%|          | 0/100352 [00:00<?, ? examples/s]"
      ]
     },
     "metadata": {},
     "output_type": "display_data"
    }
   ],
   "source": [
    "dataset2 = data2.map(lambda example: {\n",
    "    'observations': np.array(example['observations'], dtype=np.float64),\n",
    "    'next_observations': np.array(example['next_observations'], dtype=np.float64),\n",
    "    'actions': np.array(example['actions'], dtype=np.float64),\n",
    "})"
   ]
  },
  {
   "cell_type": "code",
   "execution_count": 20,
   "id": "c3ae2912-75a6-4487-ac07-8d05a467d2d2",
   "metadata": {},
   "outputs": [
    {
     "ename": "ValueError",
     "evalue": "The features can't be aligned because the key observations of features {'observations': Sequence(feature=Value(dtype='float32', id=None), length=-1, id=None), 'next_observations': Sequence(feature=Value(dtype='float32', id=None), length=-1, id=None), 'actions': Sequence(feature=Value(dtype='float32', id=None), length=-1, id=None), 'rewards': Value(dtype='float64', id=None), 'dones': Value(dtype='bool', id=None), 'info': {'TimeLimit.truncated': Value(dtype='bool', id=None), 'episode': {'l': Value(dtype='int64', id=None), 'r': Value(dtype='float64', id=None), 't': Value(dtype='float64', id=None)}, 'terminal_observation': Sequence(feature=Value(dtype='float32', id=None), length=-1, id=None)}} has unexpected type - Sequence(feature=Value(dtype='float32', id=None), length=-1, id=None) (expected either Sequence(feature=Value(dtype='float64', id=None), length=-1, id=None) or Value(\"null\").",
     "output_type": "error",
     "traceback": [
      "\u001b[0;31m---------------------------------------------------------------------------\u001b[0m",
      "\u001b[0;31mValueError\u001b[0m                                Traceback (most recent call last)",
      "Cell \u001b[0;32mIn[20], line 1\u001b[0m\n\u001b[0;32m----> 1\u001b[0m \u001b[43mconcatenate_datasets\u001b[49m\u001b[43m(\u001b[49m\u001b[43m[\u001b[49m\u001b[43mdataset\u001b[49m\u001b[43m,\u001b[49m\u001b[43mdataset2\u001b[49m\u001b[43m]\u001b[49m\u001b[43m)\u001b[49m\n",
      "File \u001b[0;32m~/anaconda3/envs/stable2/lib/python3.9/site-packages/datasets/combine.py:213\u001b[0m, in \u001b[0;36mconcatenate_datasets\u001b[0;34m(dsets, info, split, axis)\u001b[0m\n\u001b[1;32m    209\u001b[0m         \u001b[38;5;28;01mraise\u001b[39;00m \u001b[38;5;167;01mValueError\u001b[39;00m(\n\u001b[1;32m    210\u001b[0m             \u001b[38;5;124mf\u001b[39m\u001b[38;5;124m\"\u001b[39m\u001b[38;5;124mUnable to interleave a \u001b[39m\u001b[38;5;132;01m{\u001b[39;00mdataset_type\u001b[38;5;241m.\u001b[39m\u001b[38;5;18m__name__\u001b[39m\u001b[38;5;132;01m}\u001b[39;00m\u001b[38;5;124m (at position 0) with a \u001b[39m\u001b[38;5;132;01m{\u001b[39;00mother_type\u001b[38;5;241m.\u001b[39m\u001b[38;5;18m__name__\u001b[39m\u001b[38;5;132;01m}\u001b[39;00m\u001b[38;5;124m (at position \u001b[39m\u001b[38;5;132;01m{\u001b[39;00mi\u001b[38;5;132;01m}\u001b[39;00m\u001b[38;5;124m). Expected a list of Dataset objects or a list of IterableDataset objects.\u001b[39m\u001b[38;5;124m\"\u001b[39m\n\u001b[1;32m    211\u001b[0m         )\n\u001b[1;32m    212\u001b[0m \u001b[38;5;28;01mif\u001b[39;00m dataset_type \u001b[38;5;129;01mis\u001b[39;00m Dataset:\n\u001b[0;32m--> 213\u001b[0m     \u001b[38;5;28;01mreturn\u001b[39;00m \u001b[43m_concatenate_map_style_datasets\u001b[49m\u001b[43m(\u001b[49m\u001b[43mdsets\u001b[49m\u001b[43m,\u001b[49m\u001b[43m \u001b[49m\u001b[43minfo\u001b[49m\u001b[38;5;241;43m=\u001b[39;49m\u001b[43minfo\u001b[49m\u001b[43m,\u001b[49m\u001b[43m \u001b[49m\u001b[43msplit\u001b[49m\u001b[38;5;241;43m=\u001b[39;49m\u001b[43msplit\u001b[49m\u001b[43m,\u001b[49m\u001b[43m \u001b[49m\u001b[43maxis\u001b[49m\u001b[38;5;241;43m=\u001b[39;49m\u001b[43maxis\u001b[49m\u001b[43m)\u001b[49m\n\u001b[1;32m    214\u001b[0m \u001b[38;5;28;01melse\u001b[39;00m:\n\u001b[1;32m    215\u001b[0m     \u001b[38;5;28;01mreturn\u001b[39;00m _concatenate_iterable_datasets(dsets, info\u001b[38;5;241m=\u001b[39minfo, split\u001b[38;5;241m=\u001b[39msplit, axis\u001b[38;5;241m=\u001b[39maxis)\n",
      "File \u001b[0;32m~/anaconda3/envs/stable2/lib/python3.9/site-packages/datasets/arrow_dataset.py:6234\u001b[0m, in \u001b[0;36m_concatenate_map_style_datasets\u001b[0;34m(dsets, info, split, axis)\u001b[0m\n\u001b[1;32m   6232\u001b[0m \u001b[38;5;66;03m# Perform checks (and a potentional cast if axis=0)\u001b[39;00m\n\u001b[1;32m   6233\u001b[0m \u001b[38;5;28;01mif\u001b[39;00m axis \u001b[38;5;241m==\u001b[39m \u001b[38;5;241m0\u001b[39m:\n\u001b[0;32m-> 6234\u001b[0m     \u001b[43m_check_if_features_can_be_aligned\u001b[49m\u001b[43m(\u001b[49m\u001b[43m[\u001b[49m\u001b[43mdset\u001b[49m\u001b[38;5;241;43m.\u001b[39;49m\u001b[43mfeatures\u001b[49m\u001b[43m \u001b[49m\u001b[38;5;28;43;01mfor\u001b[39;49;00m\u001b[43m \u001b[49m\u001b[43mdset\u001b[49m\u001b[43m \u001b[49m\u001b[38;5;129;43;01min\u001b[39;49;00m\u001b[43m \u001b[49m\u001b[43mdsets\u001b[49m\u001b[43m]\u001b[49m\u001b[43m)\u001b[49m\n\u001b[1;32m   6235\u001b[0m \u001b[38;5;28;01melse\u001b[39;00m:\n\u001b[1;32m   6236\u001b[0m     \u001b[38;5;28;01mif\u001b[39;00m \u001b[38;5;129;01mnot\u001b[39;00m \u001b[38;5;28mall\u001b[39m(dset\u001b[38;5;241m.\u001b[39mnum_rows \u001b[38;5;241m==\u001b[39m dsets[\u001b[38;5;241m0\u001b[39m]\u001b[38;5;241m.\u001b[39mnum_rows \u001b[38;5;28;01mfor\u001b[39;00m dset \u001b[38;5;129;01min\u001b[39;00m dsets):\n",
      "File \u001b[0;32m~/anaconda3/envs/stable2/lib/python3.9/site-packages/datasets/features/features.py:2200\u001b[0m, in \u001b[0;36m_check_if_features_can_be_aligned\u001b[0;34m(features_list)\u001b[0m\n\u001b[1;32m   2198\u001b[0m     _check_if_features_can_be_aligned([name2feature[k], v])\n\u001b[1;32m   2199\u001b[0m \u001b[38;5;28;01melif\u001b[39;00m \u001b[38;5;129;01mnot\u001b[39;00m (\u001b[38;5;28misinstance\u001b[39m(v, Value) \u001b[38;5;129;01mand\u001b[39;00m v\u001b[38;5;241m.\u001b[39mdtype \u001b[38;5;241m==\u001b[39m \u001b[38;5;124m\"\u001b[39m\u001b[38;5;124mnull\u001b[39m\u001b[38;5;124m\"\u001b[39m) \u001b[38;5;129;01mand\u001b[39;00m name2feature[k] \u001b[38;5;241m!=\u001b[39m v:\n\u001b[0;32m-> 2200\u001b[0m     \u001b[38;5;28;01mraise\u001b[39;00m \u001b[38;5;167;01mValueError\u001b[39;00m(\n\u001b[1;32m   2201\u001b[0m         \u001b[38;5;124mf\u001b[39m\u001b[38;5;124m'\u001b[39m\u001b[38;5;124mThe features can\u001b[39m\u001b[38;5;130;01m\\'\u001b[39;00m\u001b[38;5;124mt be aligned because the key \u001b[39m\u001b[38;5;132;01m{\u001b[39;00mk\u001b[38;5;132;01m}\u001b[39;00m\u001b[38;5;124m of features \u001b[39m\u001b[38;5;132;01m{\u001b[39;00mfeatures\u001b[38;5;132;01m}\u001b[39;00m\u001b[38;5;124m has unexpected type - \u001b[39m\u001b[38;5;132;01m{\u001b[39;00mv\u001b[38;5;132;01m}\u001b[39;00m\u001b[38;5;124m (expected either \u001b[39m\u001b[38;5;132;01m{\u001b[39;00mname2feature[k]\u001b[38;5;132;01m}\u001b[39;00m\u001b[38;5;124m or Value(\u001b[39m\u001b[38;5;124m\"\u001b[39m\u001b[38;5;124mnull\u001b[39m\u001b[38;5;124m\"\u001b[39m\u001b[38;5;124m).\u001b[39m\u001b[38;5;124m'\u001b[39m\n\u001b[1;32m   2202\u001b[0m     )\n",
      "\u001b[0;31mValueError\u001b[0m: The features can't be aligned because the key observations of features {'observations': Sequence(feature=Value(dtype='float32', id=None), length=-1, id=None), 'next_observations': Sequence(feature=Value(dtype='float32', id=None), length=-1, id=None), 'actions': Sequence(feature=Value(dtype='float32', id=None), length=-1, id=None), 'rewards': Value(dtype='float64', id=None), 'dones': Value(dtype='bool', id=None), 'info': {'TimeLimit.truncated': Value(dtype='bool', id=None), 'episode': {'l': Value(dtype='int64', id=None), 'r': Value(dtype='float64', id=None), 't': Value(dtype='float64', id=None)}, 'terminal_observation': Sequence(feature=Value(dtype='float32', id=None), length=-1, id=None)}} has unexpected type - Sequence(feature=Value(dtype='float32', id=None), length=-1, id=None) (expected either Sequence(feature=Value(dtype='float64', id=None), length=-1, id=None) or Value(\"null\")."
     ]
    }
   ],
   "source": [
    "dataset2[\"]"
   ]
  },
  {
   "cell_type": "code",
   "execution_count": 8,
   "id": "3c6b24c7-d280-418d-9612-3aca7736603e",
   "metadata": {},
   "outputs": [
    {
     "ename": "ValueError",
     "evalue": "The columns in features (['observations', 'next_observations', 'actions']) must be identical as the columns in the dataset: ['observations', 'next_observations', 'actions', 'rewards', 'dones', 'info']",
     "output_type": "error",
     "traceback": [
      "\u001b[0;31m---------------------------------------------------------------------------\u001b[0m",
      "\u001b[0;31mValueError\u001b[0m                                Traceback (most recent call last)",
      "Cell \u001b[0;32mIn[8], line 1\u001b[0m\n\u001b[0;32m----> 1\u001b[0m data1 \u001b[38;5;241m=\u001b[39m \u001b[43mdata1\u001b[49m\u001b[38;5;241;43m.\u001b[39;49m\u001b[43mcast\u001b[49m\u001b[43m(\u001b[49m\u001b[43m{\u001b[49m\u001b[38;5;124;43m\"\u001b[39;49m\u001b[38;5;124;43mobservations\u001b[39;49m\u001b[38;5;124;43m\"\u001b[39;49m\u001b[43m:\u001b[49m\u001b[43m \u001b[49m\u001b[38;5;124;43m\"\u001b[39;49m\u001b[38;5;124;43mfloat64\u001b[39;49m\u001b[38;5;124;43m\"\u001b[39;49m\u001b[43m,\u001b[49m\u001b[43m \u001b[49m\u001b[38;5;124;43m\"\u001b[39;49m\u001b[38;5;124;43mnext_observations\u001b[39;49m\u001b[38;5;124;43m\"\u001b[39;49m\u001b[43m:\u001b[49m\u001b[43m \u001b[49m\u001b[38;5;124;43m\"\u001b[39;49m\u001b[38;5;124;43mfloat64\u001b[39;49m\u001b[38;5;124;43m\"\u001b[39;49m\u001b[43m,\u001b[49m\u001b[43m \u001b[49m\u001b[38;5;124;43m\"\u001b[39;49m\u001b[38;5;124;43mactions\u001b[39;49m\u001b[38;5;124;43m\"\u001b[39;49m\u001b[43m:\u001b[49m\u001b[43m \u001b[49m\u001b[38;5;124;43m\"\u001b[39;49m\u001b[38;5;124;43mfloat64\u001b[39;49m\u001b[38;5;124;43m\"\u001b[39;49m\u001b[43m}\u001b[49m\u001b[43m)\u001b[49m\n\u001b[1;32m      2\u001b[0m data2 \u001b[38;5;241m=\u001b[39m data2\u001b[38;5;241m.\u001b[39mcast({\u001b[38;5;124m\"\u001b[39m\u001b[38;5;124mobservations\u001b[39m\u001b[38;5;124m\"\u001b[39m: \u001b[38;5;124m\"\u001b[39m\u001b[38;5;124mfloat64\u001b[39m\u001b[38;5;124m\"\u001b[39m, \u001b[38;5;124m\"\u001b[39m\u001b[38;5;124mnext_observations\u001b[39m\u001b[38;5;124m\"\u001b[39m: \u001b[38;5;124m\"\u001b[39m\u001b[38;5;124mfloat64\u001b[39m\u001b[38;5;124m\"\u001b[39m, \u001b[38;5;124m\"\u001b[39m\u001b[38;5;124mactions\u001b[39m\u001b[38;5;124m\"\u001b[39m: \u001b[38;5;124m\"\u001b[39m\u001b[38;5;124mfloat64\u001b[39m\u001b[38;5;124m\"\u001b[39m})\n\u001b[1;32m      3\u001b[0m data3 \u001b[38;5;241m=\u001b[39m data3\u001b[38;5;241m.\u001b[39mcast({\u001b[38;5;124m\"\u001b[39m\u001b[38;5;124mobservations\u001b[39m\u001b[38;5;124m\"\u001b[39m: \u001b[38;5;124m\"\u001b[39m\u001b[38;5;124mfloat64\u001b[39m\u001b[38;5;124m\"\u001b[39m, \u001b[38;5;124m\"\u001b[39m\u001b[38;5;124mnext_observations\u001b[39m\u001b[38;5;124m\"\u001b[39m: \u001b[38;5;124m\"\u001b[39m\u001b[38;5;124mfloat64\u001b[39m\u001b[38;5;124m\"\u001b[39m, \u001b[38;5;124m\"\u001b[39m\u001b[38;5;124mactions\u001b[39m\u001b[38;5;124m\"\u001b[39m: \u001b[38;5;124m\"\u001b[39m\u001b[38;5;124mfloat64\u001b[39m\u001b[38;5;124m\"\u001b[39m})\n",
      "File \u001b[0;32m~/anaconda3/envs/stable2/lib/python3.9/site-packages/datasets/arrow_dataset.py:2102\u001b[0m, in \u001b[0;36mDataset.cast\u001b[0;34m(self, features, batch_size, keep_in_memory, load_from_cache_file, cache_file_name, writer_batch_size, num_proc)\u001b[0m\n\u001b[1;32m   2053\u001b[0m \u001b[38;5;250m\u001b[39m\u001b[38;5;124;03m\"\"\"\u001b[39;00m\n\u001b[1;32m   2054\u001b[0m \u001b[38;5;124;03mCast the dataset to a new set of features.\u001b[39;00m\n\u001b[1;32m   2055\u001b[0m \n\u001b[0;32m   (...)\u001b[0m\n\u001b[1;32m   2099\u001b[0m \u001b[38;5;124;03m```\u001b[39;00m\n\u001b[1;32m   2100\u001b[0m \u001b[38;5;124;03m\"\"\"\u001b[39;00m\n\u001b[1;32m   2101\u001b[0m \u001b[38;5;28;01mif\u001b[39;00m \u001b[38;5;28msorted\u001b[39m(features) \u001b[38;5;241m!=\u001b[39m \u001b[38;5;28msorted\u001b[39m(\u001b[38;5;28mself\u001b[39m\u001b[38;5;241m.\u001b[39m_data\u001b[38;5;241m.\u001b[39mcolumn_names):\n\u001b[0;32m-> 2102\u001b[0m     \u001b[38;5;28;01mraise\u001b[39;00m \u001b[38;5;167;01mValueError\u001b[39;00m(\n\u001b[1;32m   2103\u001b[0m         \u001b[38;5;124mf\u001b[39m\u001b[38;5;124m\"\u001b[39m\u001b[38;5;124mThe columns in features (\u001b[39m\u001b[38;5;132;01m{\u001b[39;00m\u001b[38;5;28mlist\u001b[39m(features)\u001b[38;5;132;01m}\u001b[39;00m\u001b[38;5;124m) must be identical \u001b[39m\u001b[38;5;124m\"\u001b[39m\n\u001b[1;32m   2104\u001b[0m         \u001b[38;5;124mf\u001b[39m\u001b[38;5;124m\"\u001b[39m\u001b[38;5;124mas the columns in the dataset: \u001b[39m\u001b[38;5;132;01m{\u001b[39;00m\u001b[38;5;28mself\u001b[39m\u001b[38;5;241m.\u001b[39m_data\u001b[38;5;241m.\u001b[39mcolumn_names\u001b[38;5;132;01m}\u001b[39;00m\u001b[38;5;124m\"\u001b[39m\n\u001b[1;32m   2105\u001b[0m     )\n\u001b[1;32m   2107\u001b[0m schema \u001b[38;5;241m=\u001b[39m features\u001b[38;5;241m.\u001b[39marrow_schema\n\u001b[1;32m   2108\u001b[0m \u001b[38;5;28mformat\u001b[39m \u001b[38;5;241m=\u001b[39m \u001b[38;5;28mself\u001b[39m\u001b[38;5;241m.\u001b[39mformat\n",
      "\u001b[0;31mValueError\u001b[0m: The columns in features (['observations', 'next_observations', 'actions']) must be identical as the columns in the dataset: ['observations', 'next_observations', 'actions', 'rewards', 'dones', 'info']"
     ]
    }
   ],
   "source": [
    "data1 = data1.cast({\"observations\": \"float64\", \"next_observations\": \"float64\", \"actions\": \"float64\", \"rewards\":\"float64\", d})\n",
    "data2 = data2.cast({\"observations\": \"float64\", \"next_observations\": \"float64\", \"actions\": \"float64\"})\n",
    "data3 = data3.cast({\"observations\": \"float64\", \"next_observations\": \"float64\", \"actions\": \"float64\"})\n"
   ]
  },
  {
   "cell_type": "code",
   "execution_count": null,
   "id": "ea9e11a0-1449-4bd2-bdfa-3443322e51c8",
   "metadata": {},
   "outputs": [],
   "source": []
  },
  {
   "cell_type": "code",
   "execution_count": 4,
   "id": "49dac89a-1bce-43ae-9722-b540f9f1ca72",
   "metadata": {},
   "outputs": [
    {
     "name": "stdout",
     "output_type": "stream",
     "text": [
      "Key: observations, Data Type: list\n",
      "Key: next_observations, Data Type: list\n",
      "Key: actions, Data Type: list\n",
      "Key: rewards, Data Type: float64\n",
      "Key: dones, Data Type: bool\n"
     ]
    },
    {
     "ename": "AttributeError",
     "evalue": "'dict' object has no attribute 'dtype'",
     "output_type": "error",
     "traceback": [
      "\u001b[0;31m---------------------------------------------------------------------------\u001b[0m",
      "\u001b[0;31mAttributeError\u001b[0m                            Traceback (most recent call last)",
      "Cell \u001b[0;32mIn[4], line 2\u001b[0m\n\u001b[1;32m      1\u001b[0m \u001b[38;5;28;01mfor\u001b[39;00m key, feature \u001b[38;5;129;01min\u001b[39;00m data1\u001b[38;5;241m.\u001b[39mfeatures\u001b[38;5;241m.\u001b[39mitems():\n\u001b[0;32m----> 2\u001b[0m     \u001b[38;5;28mprint\u001b[39m(\u001b[38;5;124mf\u001b[39m\u001b[38;5;124m\"\u001b[39m\u001b[38;5;124mKey: \u001b[39m\u001b[38;5;132;01m{\u001b[39;00mkey\u001b[38;5;132;01m}\u001b[39;00m\u001b[38;5;124m, Data Type: \u001b[39m\u001b[38;5;132;01m{\u001b[39;00mfeature\u001b[38;5;241m.\u001b[39mdtype\u001b[38;5;132;01m}\u001b[39;00m\u001b[38;5;124m\"\u001b[39m)\n",
      "\u001b[0;31mAttributeError\u001b[0m: 'dict' object has no attribute 'dtype'"
     ]
    }
   ],
   "source": [
    "for key, feature in data1.features.items():\n",
    "    print(f\"Key: {key}, Data Type: {feature.dtype}\")"
   ]
  },
  {
   "cell_type": "code",
   "execution_count": 33,
   "id": "f042f78f-a335-4d24-b4e2-a78aa6720662",
   "metadata": {},
   "outputs": [
    {
     "name": "stdout",
     "output_type": "stream",
     "text": [
      "Key: observations, Data Type: list\n",
      "Key: next_observations, Data Type: list\n",
      "Key: actions, Data Type: list\n",
      "Key: rewards, Data Type: float64\n",
      "Key: dones, Data Type: bool\n"
     ]
    },
    {
     "ename": "AttributeError",
     "evalue": "'dict' object has no attribute 'dtype'",
     "output_type": "error",
     "traceback": [
      "\u001b[0;31m---------------------------------------------------------------------------\u001b[0m",
      "\u001b[0;31mAttributeError\u001b[0m                            Traceback (most recent call last)",
      "Cell \u001b[0;32mIn[33], line 2\u001b[0m\n\u001b[1;32m      1\u001b[0m \u001b[38;5;28;01mfor\u001b[39;00m key, feature \u001b[38;5;129;01min\u001b[39;00m data1\u001b[38;5;241m.\u001b[39mfeatures\u001b[38;5;241m.\u001b[39mitems():\n\u001b[0;32m----> 2\u001b[0m     \u001b[38;5;28mprint\u001b[39m(\u001b[38;5;124mf\u001b[39m\u001b[38;5;124m\"\u001b[39m\u001b[38;5;124mKey: \u001b[39m\u001b[38;5;132;01m{\u001b[39;00mkey\u001b[38;5;132;01m}\u001b[39;00m\u001b[38;5;124m, Data Type: \u001b[39m\u001b[38;5;132;01m{\u001b[39;00mfeature\u001b[38;5;241m.\u001b[39mdtype\u001b[38;5;132;01m}\u001b[39;00m\u001b[38;5;124m\"\u001b[39m)\n",
      "\u001b[0;31mAttributeError\u001b[0m: 'dict' object has no attribute 'dtype'"
     ]
    }
   ],
   "source": [
    "for key, feature in data1.features.items():\n",
    "    print(f\"Key: {key}, Data Type: {feature.dtype}\")"
   ]
  },
  {
   "cell_type": "code",
   "execution_count": 61,
   "id": "47a9616e-66bf-4ddf-879a-ffee255769ce",
   "metadata": {},
   "outputs": [
    {
     "data": {
      "text/plain": [
       "-0.5539745688438416"
      ]
     },
     "execution_count": 61,
     "metadata": {},
     "output_type": "execute_result"
    }
   ],
   "source": [
    "data3[\"rewards\"][1]"
   ]
  },
  {
   "cell_type": "code",
   "execution_count": null,
   "id": "b274d985-b0b0-41c3-9f2c-97a0854a8739",
   "metadata": {},
   "outputs": [],
   "source": []
  }
 ],
 "metadata": {
  "kernelspec": {
   "display_name": "Python 3 (ipykernel)",
   "language": "python",
   "name": "python3"
  },
  "language_info": {
   "codemirror_mode": {
    "name": "ipython",
    "version": 3
   },
   "file_extension": ".py",
   "mimetype": "text/x-python",
   "name": "python",
   "nbconvert_exporter": "python",
   "pygments_lexer": "ipython3",
   "version": "3.9.12"
  }
 },
 "nbformat": 4,
 "nbformat_minor": 5
}
