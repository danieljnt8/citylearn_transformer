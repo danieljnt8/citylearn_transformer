{
 "cells": [
  {
   "cell_type": "code",
   "execution_count": 1,
   "id": "7632d0ac-a612-47ac-9f35-8cffdd25fb46",
   "metadata": {},
   "outputs": [],
   "source": [
    "import pandas as pd\n",
    "import matplotlib.pyplot as plt"
   ]
  },
  {
   "cell_type": "code",
   "execution_count": 2,
   "id": "d33e2c97-ab2b-46d0-ac06-880c04986abd",
   "metadata": {},
   "outputs": [],
   "source": [
    "# baselines \n",
    "# Carbon Emissions Total 0.871\n",
    "# Cost Total   0.817\n",
    "# Electricity Consumption Total 0.869\n",
    "# Monthy Load Average 0.966\n",
    "# Ramping Average 0.908\n",
    "# Zero Net Energy 1.207"
   ]
  },
  {
   "cell_type": "code",
   "execution_count": 3,
   "id": "19b09670-7de2-40fe-ae53-b0796922a867",
   "metadata": {},
   "outputs": [],
   "source": [
    "path_2 = \"DT_RESULT/EVAL_1/\"\n",
    "path_3 = \"DT_RESULT/EVAL_2/\"\n",
    "path_4 = \"DT_RESULT/EVAL_3/\"\n",
    "path_5 = \"DT_RESULT/EVAL_4/\"\n",
    "path_6 = \"DT_RESULT/EVAL_5/\""
   ]
  },
  {
   "cell_type": "code",
   "execution_count": 4,
   "id": "8f54f8ef-1145-412f-93dc-ef67917517e9",
   "metadata": {},
   "outputs": [],
   "source": [
    "data_2 = []\n",
    "list_df = []"
   ]
  },
  {
   "cell_type": "code",
   "execution_count": 5,
   "id": "f8feb4f0-95e6-42ae-b282-210a63809a82",
   "metadata": {},
   "outputs": [],
   "source": [
    "important_metrics = [\"all_time_peak_average\",\"carbon_emissions_total\",\"cost_total\",\"daily_one_minus_load_factor_average\",\"daily_peak_average\",\n",
    "                    \"electricity_consumption_total\", \"monthly_one_minus_load_factor_average\", \"ramping_average\",\"zero_net_energy\"]"
   ]
  },
  {
   "cell_type": "code",
   "execution_count": 6,
   "id": "ad4cf57b-8888-49ea-94f8-d9686ab60451",
   "metadata": {},
   "outputs": [],
   "source": [
    "list_df=[]"
   ]
  },
  {
   "cell_type": "code",
   "execution_count": 8,
   "id": "6c750bf0-349f-46cc-9312-f671bf9abf33",
   "metadata": {},
   "outputs": [],
   "source": [
    "for p in range(1,6):\n",
    "    data = []\n",
    "    for i in range(0,10):\n",
    "        df = pd.read_csv(r\"DT_RESULT/EVAL_{}/eval_pretrain_ori_iter_{}.csv\".format(p,i),index_col = 1)\n",
    "        df = df[df.level == \"district\"]\n",
    "        value_ = df.loc[important_metrics][\"value\"].tolist()\n",
    "        data.append(value_)\n",
    "    df_full = pd.DataFrame(data,columns= important_metrics)\n",
    "    list_df.append(df_full)\n",
    "        \n",
    "        \n",
    "\n",
    "\n",
    "    "
   ]
  },
  {
   "cell_type": "code",
   "execution_count": 9,
   "id": "ef95330c-72bb-4f28-a2e1-5924f62832b5",
   "metadata": {},
   "outputs": [],
   "source": [
    "combined_data = {\n",
    "    'all_time_peak_average': [],\n",
    "    'carbon_emissions_total': [],\n",
    "    'cost_total': [],\n",
    "    'daily_one_minus_load_factor_average': [],\n",
    "    'daily_peak_average':[],\n",
    "    'electricity_consumption_total': [],\n",
    "    'monthly_one_minus_load_factor_average':[],\n",
    "    'ramping_average':[],\n",
    "    'zero_net_energy':[]\n",
    "}"
   ]
  },
  {
   "cell_type": "code",
   "execution_count": 10,
   "id": "d5c51c41-b6d2-4aa0-943b-f6c7abcb894e",
   "metadata": {},
   "outputs": [],
   "source": [
    "for i, df in enumerate(list_df, start=1):\n",
    "    for metric in important_metrics:\n",
    "        combined_data[metric].append(df[metric].rename(f'{metric}_{i}'))\n",
    "   "
   ]
  },
  {
   "cell_type": "code",
   "execution_count": 11,
   "id": "cf79fb21-3a72-4941-82ff-d5334facfae9",
   "metadata": {},
   "outputs": [],
   "source": [
    "cost_total_df = pd.concat(combined_data['cost_total'], axis=1)\n",
    "carbon_emissions_total_df = pd.concat(combined_data['carbon_emissions_total'], axis=1)\n",
    "electricity_consumption_total_df = pd.concat(combined_data['electricity_consumption_total'], axis=1)\n",
    "ramping_average_df = pd.concat(combined_data['ramping_average'], axis=1)[1:].reset_index(drop=True)\n",
    "load_df = pd.concat(combined_data[\"monthly_one_minus_load_factor_average\"],axis=1)[1:].reset_index(drop=True)\n",
    "zero_energy_df = pd.concat(combined_data[\"zero_net_energy\"],axis=1)[1:].reset_index(drop=True)\n"
   ]
  },
  {
   "cell_type": "code",
   "execution_count": 21,
   "id": "05e70017-3861-4e22-81a1-8b61552c9539",
   "metadata": {},
   "outputs": [],
   "source": [
    "def plot_ppo(df = None, type_ = \"Cost Total\", fig_name = \"cost_total\",rbc_value = 0.817):\n",
    "    \n",
    "    mean_values = df.mean(axis=1)\n",
    "    std_values = df.std(axis=1)\n",
    "\n",
    "    # Plotting\n",
    "    plt.figure(figsize=(10, 6))\n",
    "    plt.plot(mean_values, label='SAC', color='b')\n",
    "    plt.fill_between(range(len(mean_values)), mean_values - std_values, mean_values + std_values, color='b', alpha=0.2)\n",
    "    plt.xlabel('Epoch')\n",
    "    plt.ylabel(type_)\n",
    "    plt.title('Mean and Standard Deviation of {} Across Episodes'.format(type_))\n",
    "    plt.axhline(y=rbc_value, color='r', linestyle='--', label='RBC')\n",
    "    plt.axhline(y=1.0, color='g', linestyle='--', label='Zero Agent')\n",
    "    plt.legend()\n",
    "    #plt.show()\n",
    "    plt.savefig(\"plots_SB/DT/{}.png\".format(fig_name))\n",
    "    plt.close()"
   ]
  },
  {
   "cell_type": "code",
   "execution_count": 22,
   "id": "f9d00a51-dd65-40ba-a7ff-f9aa62383b5a",
   "metadata": {},
   "outputs": [],
   "source": [
    "plot_ppo(carbon_emissions_total_df,type_= \"Carbon Emissions Total\", fig_name = \"carbon_emission_total\",rbc_value = 0.893)\n",
    "plot_ppo(cost_total_df,type_= \"Cost Total\", fig_name = \"cost_total\",rbc_value = 0.826)\n",
    "plot_ppo(electricity_consumption_total_df,type_= \"Electricity Consumption Total\", fig_name = \"electricity_consumption_total\",rbc_value = 0.887)\n",
    "plot_ppo(load_df,type_= \"Load Factor Cost\", fig_name = \"load_factor_cost\",rbc_value = 0.953)\n",
    "plot_ppo(ramping_average_df,type_= \"Ramping Average\", fig_name = \"ramping_average\",rbc_value = 0.924)\n",
    "plot_ppo(zero_energy_df,type_= \"Zero Net Energy\", fig_name = \"zero_net_energy\",rbc_value = 1.135)\n"
   ]
  },
  {
   "cell_type": "code",
   "execution_count": null,
   "id": "ef65f10b-301b-4f26-8672-7648618c75e0",
   "metadata": {},
   "outputs": [],
   "source": []
  }
 ],
 "metadata": {
  "kernelspec": {
   "display_name": "Python 3 (ipykernel)",
   "language": "python",
   "name": "python3"
  },
  "language_info": {
   "codemirror_mode": {
    "name": "ipython",
    "version": 3
   },
   "file_extension": ".py",
   "mimetype": "text/x-python",
   "name": "python",
   "nbconvert_exporter": "python",
   "pygments_lexer": "ipython3",
   "version": "3.9.12"
  }
 },
 "nbformat": 4,
 "nbformat_minor": 5
}
