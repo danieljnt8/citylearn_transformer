{
 "cells": [
  {
   "cell_type": "code",
   "execution_count": 36,
   "id": "9e80f8ba-8c93-4fdf-b7b9-2fd8a2886fac",
   "metadata": {},
   "outputs": [],
   "source": [
    "import os\n",
    "import torch\n",
    "import argparse\n",
    "import numpy as np\n",
    "\n",
    "from tqdm.auto import trange\n",
    "from omegaconf import OmegaConf\n",
    "\n",
    "from stable_baselines3.common.vec_env import DummyVecEnv\n",
    "\n",
    "from trajectory.models.gpt import GPT\n",
    "from trajectory.utils.common import set_seed\n",
    "from trajectory.utils.env import create_env, rollout, vec_rollout\n"
   ]
  },
  {
   "cell_type": "code",
   "execution_count": 37,
   "id": "ce5756cc-110a-4072-9a87-68b79c2e7e3c",
   "metadata": {},
   "outputs": [],
   "source": [
    "device = \"cuda:0\""
   ]
  },
  {
   "cell_type": "code",
   "execution_count": 38,
   "id": "d74dd5cb-cbec-465e-a260-750f35438ea7",
   "metadata": {},
   "outputs": [],
   "source": [
    "checkpoints_path =  \"checkpoints/city_learn/uniform/baseline\""
   ]
  },
  {
   "cell_type": "code",
   "execution_count": 39,
   "id": "0800fc26-2229-4273-ba73-abeca6c5b5b7",
   "metadata": {},
   "outputs": [],
   "source": [
    "#run_config = \"checkpoints/city_learn/uniform/baseline/configs.yaml\"\n",
    "config = \"configs/medium/city_learn_traj.yaml\""
   ]
  },
  {
   "cell_type": "code",
   "execution_count": 40,
   "id": "534ae614-b8ea-4679-ae98-1f23759dd8ba",
   "metadata": {},
   "outputs": [],
   "source": [
    "run_config = OmegaConf.load(config)"
   ]
  },
  {
   "cell_type": "code",
   "execution_count": 41,
   "id": "574c21fd-ad31-4ced-9fa4-17545c69de3e",
   "metadata": {},
   "outputs": [],
   "source": [
    "discretizer = torch.load(os.path.join(checkpoints_path, \"discretizer.pt\"), map_location=device)"
   ]
  },
  {
   "cell_type": "code",
   "execution_count": 42,
   "id": "2c44dca1-11cc-4237-b0c2-45d0568720d4",
   "metadata": {},
   "outputs": [
    {
     "data": {
      "text/plain": [
       "GPT(\n",
       "  (tok_emb): Embedding(3300, 128)\n",
       "  (drop_emb): Dropout(p=0.1, inplace=False)\n",
       "  (blocks): ModuleList(\n",
       "    (0-3): 4 x TransformerBlock(\n",
       "      (norm1): LayerNorm((128,), eps=1e-05, elementwise_affine=True)\n",
       "      (norm2): LayerNorm((128,), eps=1e-05, elementwise_affine=True)\n",
       "      (drop): Dropout(p=0.1, inplace=False)\n",
       "      (attention): MultiheadAttention(\n",
       "        (out_proj): NonDynamicallyQuantizableLinear(in_features=128, out_features=128, bias=True)\n",
       "      )\n",
       "      (mlp): Sequential(\n",
       "        (0): Linear(in_features=128, out_features=512, bias=True)\n",
       "        (1): GELU(approximate='none')\n",
       "        (2): Linear(in_features=512, out_features=128, bias=True)\n",
       "        (3): Dropout(p=0.1, inplace=False)\n",
       "      )\n",
       "    )\n",
       "  )\n",
       "  (norm): LayerNorm((128,), eps=1e-05, elementwise_affine=True)\n",
       "  (head): EinLinear(n_models=33, in_features=128, out_features=100, bias=False)\n",
       ")"
      ]
     },
     "execution_count": 42,
     "metadata": {},
     "output_type": "execute_result"
    }
   ],
   "source": [
    "model = GPT(**run_config.model)\n",
    "model.eval()\n",
    "model.to(device)"
   ]
  },
  {
   "cell_type": "code",
   "execution_count": 43,
   "id": "f9a6525e-c845-469a-82fa-0fb6d03fc7a4",
   "metadata": {},
   "outputs": [
    {
     "data": {
      "text/plain": [
       "<All keys matched successfully>"
      ]
     },
     "execution_count": 43,
     "metadata": {},
     "output_type": "execute_result"
    }
   ],
   "source": [
    "model.load_state_dict(torch.load(os.path.join(checkpoints_path, \"model_last.pt\"), map_location=device))"
   ]
  },
  {
   "cell_type": "markdown",
   "id": "af994764-4507-4393-b5af-bba56498287e",
   "metadata": {},
   "source": [
    "### Environment Settings"
   ]
  },
  {
   "cell_type": "code",
   "execution_count": 44,
   "id": "1c789c09-81fe-4644-b6c6-303fdddfdcf3",
   "metadata": {},
   "outputs": [],
   "source": [
    "schema = \"citylearn_challenge_2022_phase_2\""
   ]
  },
  {
   "cell_type": "code",
   "execution_count": 45,
   "id": "63840573-937f-4f41-8a48-a14e99514890",
   "metadata": {},
   "outputs": [
    {
     "ename": "NameError",
     "evalue": "name 'CityLearnEnv' is not defined",
     "output_type": "error",
     "traceback": [
      "\u001b[0;31m---------------------------------------------------------------------------\u001b[0m",
      "\u001b[0;31mNameError\u001b[0m                                 Traceback (most recent call last)",
      "Cell \u001b[0;32mIn[45], line 1\u001b[0m\n\u001b[0;32m----> 1\u001b[0m env \u001b[38;5;241m=\u001b[39m \u001b[43mCityLearnEnv\u001b[49m(schema\u001b[38;5;241m=\u001b[39mschema)\n\u001b[1;32m      2\u001b[0m env \u001b[38;5;241m=\u001b[39m EnvCityGym(env)\n",
      "\u001b[0;31mNameError\u001b[0m: name 'CityLearnEnv' is not defined"
     ]
    }
   ],
   "source": [
    "\n",
    "from citylearn.citylearn import CityLearnEnv\n"
   ]
  },
  {
   "cell_type": "code",
   "execution_count": null,
   "id": "f6d75e04-72d5-4545-87e1-acb9af52bd1d",
   "metadata": {},
   "outputs": [],
   "source": []
  }
 ],
 "metadata": {
  "kernelspec": {
   "display_name": "Python 3 (ipykernel)",
   "language": "python",
   "name": "python3"
  },
  "language_info": {
   "codemirror_mode": {
    "name": "ipython",
    "version": 3
   },
   "file_extension": ".py",
   "mimetype": "text/x-python",
   "name": "python",
   "nbconvert_exporter": "python",
   "pygments_lexer": "ipython3",
   "version": "3.9.12"
  }
 },
 "nbformat": 4,
 "nbformat_minor": 5
}
