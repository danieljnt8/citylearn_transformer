{
 "cells": [
  {
   "cell_type": "markdown",
   "id": "2f6f5b5a-1fcc-40ae-bf64-bd3426f21f60",
   "metadata": {},
   "source": [
    "## Train"
   ]
  },
  {
   "cell_type": "code",
   "execution_count": 1,
   "id": "b7c2a008-adf8-48bc-baea-63eb3cd7bb5f",
   "metadata": {},
   "outputs": [],
   "source": [
    "import pandas as pd\n",
    "import matplotlib.pyplot as plt"
   ]
  },
  {
   "cell_type": "code",
   "execution_count": 2,
   "id": "750060d8-3005-47f0-b5ec-b504dbe74197",
   "metadata": {},
   "outputs": [],
   "source": [
    "path_DT_train = \"data_result/DT/train_phase_1/\"\n",
    "path_TT_train = \"data_result/TT/train_phase_1/\"\n",
    "\n",
    "path_DT_eval = \"data_result/DT/eval_phase_2/\"\n",
    "path_TT_eval = \"data_result/TT/eval_phase_2/\"\n",
    "\n",
    "path_DT_test = \"data_result/DT/test_phase_3/\"\n",
    "path_TT_test = \"data_result/TT/test_phase_3/\""
   ]
  },
  {
   "cell_type": "code",
   "execution_count": 3,
   "id": "39038af6-be27-4ef2-9417-def3475f0ac3",
   "metadata": {},
   "outputs": [],
   "source": [
    "important_metrics = [\"all_time_peak_average\",\"carbon_emissions_total\",\"cost_total\",\"daily_one_minus_load_factor_average\",\"daily_peak_average\",\n",
    "                    \"electricity_consumption_total\", \"monthly_one_minus_load_factor_average\", \"ramping_average\",\"zero_net_energy\"]"
   ]
  },
  {
   "cell_type": "code",
   "execution_count": 4,
   "id": "2f65e6ae-efa0-4497-874a-c0f82b856bdc",
   "metadata": {},
   "outputs": [],
   "source": [
    "list_df=[]"
   ]
  },
  {
   "cell_type": "code",
   "execution_count": 5,
   "id": "596ba048-8137-49e5-ac6b-6b3e3d0a00d1",
   "metadata": {},
   "outputs": [],
   "source": [
    "\n",
    "def return_result(path,mode=\"train\"):\n",
    "    data= []\n",
    "    list_df =[]\n",
    "    for i in range(1,6):\n",
    "        df = pd.read_csv(path + mode +\"_{}.csv\".format(i),index_col = 1)\n",
    "        df = df[df.level == \"district\"]\n",
    "        value_ = df.loc[important_metrics][\"value\"].tolist()\n",
    "        data.append(value_)\n",
    "        df_full = pd.DataFrame(data,columns= important_metrics)\n",
    "        list_df.append(df_full)\n",
    "    \n",
    "\n",
    "    \n",
    "    return list_df[-1]"
   ]
  },
  {
   "cell_type": "code",
   "execution_count": 6,
   "id": "78aadbc7-6673-43a3-9e2a-5840628fc4f8",
   "metadata": {},
   "outputs": [],
   "source": [
    "list_df_dt = return_result(path_DT_train)\n",
    "list_df_tt = return_result(path_TT_train)"
   ]
  },
  {
   "cell_type": "code",
   "execution_count": 7,
   "id": "83102d10-ae82-4e0e-ac79-84aa0ddd3b3b",
   "metadata": {},
   "outputs": [],
   "source": [
    "summary_dt = pd.DataFrame({\n",
    "    'mean': list_df_dt.mean(),\n",
    "    'std': list_df_dt.std()\n",
    "})\n",
    "summary_tt = pd.DataFrame({\n",
    "    'mean': list_df_tt.mean(),\n",
    "    'std': list_df_tt.std()\n",
    "})"
   ]
  },
  {
   "cell_type": "code",
   "execution_count": 8,
   "id": "2754bcc6-ce70-4ac4-867f-b7409c1f8358",
   "metadata": {},
   "outputs": [],
   "source": [
    "summary_combined = pd.merge(summary_dt, summary_tt, left_index=True, right_index=True)\n"
   ]
  },
  {
   "cell_type": "code",
   "execution_count": 9,
   "id": "f14199db-7ac7-476f-b00a-ba00f1e1e0df",
   "metadata": {},
   "outputs": [],
   "source": [
    "summary_combined.columns = [\"mean_dt\",\"std_dt\",\"mean_tt\",\"std_tt\"]"
   ]
  },
  {
   "cell_type": "code",
   "execution_count": 10,
   "id": "9245281e-c94e-4954-94d9-46e7a156574d",
   "metadata": {},
   "outputs": [
    {
     "data": {
      "text/html": [
       "<div>\n",
       "<style scoped>\n",
       "    .dataframe tbody tr th:only-of-type {\n",
       "        vertical-align: middle;\n",
       "    }\n",
       "\n",
       "    .dataframe tbody tr th {\n",
       "        vertical-align: top;\n",
       "    }\n",
       "\n",
       "    .dataframe thead th {\n",
       "        text-align: right;\n",
       "    }\n",
       "</style>\n",
       "<table border=\"1\" class=\"dataframe\">\n",
       "  <thead>\n",
       "    <tr style=\"text-align: right;\">\n",
       "      <th></th>\n",
       "      <th>mean_dt</th>\n",
       "      <th>std_dt</th>\n",
       "      <th>mean_tt</th>\n",
       "      <th>std_tt</th>\n",
       "    </tr>\n",
       "  </thead>\n",
       "  <tbody>\n",
       "    <tr>\n",
       "      <th>all_time_peak_average</th>\n",
       "      <td>0.782682</td>\n",
       "      <td>0.014141</td>\n",
       "      <td>0.784444</td>\n",
       "      <td>0.002026</td>\n",
       "    </tr>\n",
       "    <tr>\n",
       "      <th>carbon_emissions_total</th>\n",
       "      <td>0.893350</td>\n",
       "      <td>0.002420</td>\n",
       "      <td>0.893469</td>\n",
       "      <td>0.000304</td>\n",
       "    </tr>\n",
       "    <tr>\n",
       "      <th>cost_total</th>\n",
       "      <td>0.825401</td>\n",
       "      <td>0.003871</td>\n",
       "      <td>0.825675</td>\n",
       "      <td>0.000780</td>\n",
       "    </tr>\n",
       "    <tr>\n",
       "      <th>daily_one_minus_load_factor_average</th>\n",
       "      <td>0.917920</td>\n",
       "      <td>0.002284</td>\n",
       "      <td>0.922883</td>\n",
       "      <td>0.000435</td>\n",
       "    </tr>\n",
       "    <tr>\n",
       "      <th>daily_peak_average</th>\n",
       "      <td>0.791933</td>\n",
       "      <td>0.004803</td>\n",
       "      <td>0.793257</td>\n",
       "      <td>0.002701</td>\n",
       "    </tr>\n",
       "    <tr>\n",
       "      <th>electricity_consumption_total</th>\n",
       "      <td>0.887336</td>\n",
       "      <td>0.002947</td>\n",
       "      <td>0.887067</td>\n",
       "      <td>0.000190</td>\n",
       "    </tr>\n",
       "    <tr>\n",
       "      <th>monthly_one_minus_load_factor_average</th>\n",
       "      <td>0.952569</td>\n",
       "      <td>0.001720</td>\n",
       "      <td>0.953127</td>\n",
       "      <td>0.000156</td>\n",
       "    </tr>\n",
       "    <tr>\n",
       "      <th>ramping_average</th>\n",
       "      <td>0.915743</td>\n",
       "      <td>0.001711</td>\n",
       "      <td>0.920616</td>\n",
       "      <td>0.001562</td>\n",
       "    </tr>\n",
       "    <tr>\n",
       "      <th>zero_net_energy</th>\n",
       "      <td>1.138429</td>\n",
       "      <td>0.004311</td>\n",
       "      <td>1.135322</td>\n",
       "      <td>0.000076</td>\n",
       "    </tr>\n",
       "  </tbody>\n",
       "</table>\n",
       "</div>"
      ],
      "text/plain": [
       "                                        mean_dt    std_dt   mean_tt    std_tt\n",
       "all_time_peak_average                  0.782682  0.014141  0.784444  0.002026\n",
       "carbon_emissions_total                 0.893350  0.002420  0.893469  0.000304\n",
       "cost_total                             0.825401  0.003871  0.825675  0.000780\n",
       "daily_one_minus_load_factor_average    0.917920  0.002284  0.922883  0.000435\n",
       "daily_peak_average                     0.791933  0.004803  0.793257  0.002701\n",
       "electricity_consumption_total          0.887336  0.002947  0.887067  0.000190\n",
       "monthly_one_minus_load_factor_average  0.952569  0.001720  0.953127  0.000156\n",
       "ramping_average                        0.915743  0.001711  0.920616  0.001562\n",
       "zero_net_energy                        1.138429  0.004311  1.135322  0.000076"
      ]
     },
     "execution_count": 10,
     "metadata": {},
     "output_type": "execute_result"
    }
   ],
   "source": [
    "summary_combined"
   ]
  },
  {
   "cell_type": "code",
   "execution_count": 11,
   "id": "0b24728f-67f3-4139-8f90-f4c5cd44b6ca",
   "metadata": {},
   "outputs": [],
   "source": [
    "summary_combined[\"RBC\"]= [0.783, 0.893, 0.826, 0.923, 0.794, 0.887, 0.953, 0.924,1.135]"
   ]
  },
  {
   "cell_type": "code",
   "execution_count": 12,
   "id": "c867bdd5-2405-4f42-ab35-22800f694a61",
   "metadata": {},
   "outputs": [
    {
     "data": {
      "text/html": [
       "<div>\n",
       "<style scoped>\n",
       "    .dataframe tbody tr th:only-of-type {\n",
       "        vertical-align: middle;\n",
       "    }\n",
       "\n",
       "    .dataframe tbody tr th {\n",
       "        vertical-align: top;\n",
       "    }\n",
       "\n",
       "    .dataframe thead th {\n",
       "        text-align: right;\n",
       "    }\n",
       "</style>\n",
       "<table border=\"1\" class=\"dataframe\">\n",
       "  <thead>\n",
       "    <tr style=\"text-align: right;\">\n",
       "      <th></th>\n",
       "      <th>mean_dt</th>\n",
       "      <th>std_dt</th>\n",
       "      <th>mean_tt</th>\n",
       "      <th>std_tt</th>\n",
       "      <th>RBC</th>\n",
       "    </tr>\n",
       "  </thead>\n",
       "  <tbody>\n",
       "    <tr>\n",
       "      <th>all_time_peak_average</th>\n",
       "      <td>0.782682</td>\n",
       "      <td>0.014141</td>\n",
       "      <td>0.784444</td>\n",
       "      <td>0.002026</td>\n",
       "      <td>0.783</td>\n",
       "    </tr>\n",
       "    <tr>\n",
       "      <th>carbon_emissions_total</th>\n",
       "      <td>0.893350</td>\n",
       "      <td>0.002420</td>\n",
       "      <td>0.893469</td>\n",
       "      <td>0.000304</td>\n",
       "      <td>0.893</td>\n",
       "    </tr>\n",
       "    <tr>\n",
       "      <th>cost_total</th>\n",
       "      <td>0.825401</td>\n",
       "      <td>0.003871</td>\n",
       "      <td>0.825675</td>\n",
       "      <td>0.000780</td>\n",
       "      <td>0.826</td>\n",
       "    </tr>\n",
       "    <tr>\n",
       "      <th>daily_one_minus_load_factor_average</th>\n",
       "      <td>0.917920</td>\n",
       "      <td>0.002284</td>\n",
       "      <td>0.922883</td>\n",
       "      <td>0.000435</td>\n",
       "      <td>0.923</td>\n",
       "    </tr>\n",
       "    <tr>\n",
       "      <th>daily_peak_average</th>\n",
       "      <td>0.791933</td>\n",
       "      <td>0.004803</td>\n",
       "      <td>0.793257</td>\n",
       "      <td>0.002701</td>\n",
       "      <td>0.794</td>\n",
       "    </tr>\n",
       "    <tr>\n",
       "      <th>electricity_consumption_total</th>\n",
       "      <td>0.887336</td>\n",
       "      <td>0.002947</td>\n",
       "      <td>0.887067</td>\n",
       "      <td>0.000190</td>\n",
       "      <td>0.887</td>\n",
       "    </tr>\n",
       "    <tr>\n",
       "      <th>monthly_one_minus_load_factor_average</th>\n",
       "      <td>0.952569</td>\n",
       "      <td>0.001720</td>\n",
       "      <td>0.953127</td>\n",
       "      <td>0.000156</td>\n",
       "      <td>0.953</td>\n",
       "    </tr>\n",
       "    <tr>\n",
       "      <th>ramping_average</th>\n",
       "      <td>0.915743</td>\n",
       "      <td>0.001711</td>\n",
       "      <td>0.920616</td>\n",
       "      <td>0.001562</td>\n",
       "      <td>0.924</td>\n",
       "    </tr>\n",
       "    <tr>\n",
       "      <th>zero_net_energy</th>\n",
       "      <td>1.138429</td>\n",
       "      <td>0.004311</td>\n",
       "      <td>1.135322</td>\n",
       "      <td>0.000076</td>\n",
       "      <td>1.135</td>\n",
       "    </tr>\n",
       "  </tbody>\n",
       "</table>\n",
       "</div>"
      ],
      "text/plain": [
       "                                        mean_dt    std_dt   mean_tt    std_tt  \\\n",
       "all_time_peak_average                  0.782682  0.014141  0.784444  0.002026   \n",
       "carbon_emissions_total                 0.893350  0.002420  0.893469  0.000304   \n",
       "cost_total                             0.825401  0.003871  0.825675  0.000780   \n",
       "daily_one_minus_load_factor_average    0.917920  0.002284  0.922883  0.000435   \n",
       "daily_peak_average                     0.791933  0.004803  0.793257  0.002701   \n",
       "electricity_consumption_total          0.887336  0.002947  0.887067  0.000190   \n",
       "monthly_one_minus_load_factor_average  0.952569  0.001720  0.953127  0.000156   \n",
       "ramping_average                        0.915743  0.001711  0.920616  0.001562   \n",
       "zero_net_energy                        1.138429  0.004311  1.135322  0.000076   \n",
       "\n",
       "                                         RBC  \n",
       "all_time_peak_average                  0.783  \n",
       "carbon_emissions_total                 0.893  \n",
       "cost_total                             0.826  \n",
       "daily_one_minus_load_factor_average    0.923  \n",
       "daily_peak_average                     0.794  \n",
       "electricity_consumption_total          0.887  \n",
       "monthly_one_minus_load_factor_average  0.953  \n",
       "ramping_average                        0.924  \n",
       "zero_net_energy                        1.135  "
      ]
     },
     "execution_count": 12,
     "metadata": {},
     "output_type": "execute_result"
    }
   ],
   "source": [
    "summary_combined"
   ]
  },
  {
   "cell_type": "markdown",
   "id": "11f7e5c8-8c9d-42b1-b84f-bee862c9320d",
   "metadata": {},
   "source": [
    "## EVAL"
   ]
  },
  {
   "cell_type": "code",
   "execution_count": 13,
   "id": "f7ed6314-601e-4117-8749-ad7783dc6a4b",
   "metadata": {},
   "outputs": [],
   "source": [
    "list_df_dt_eval = return_result(path_DT_eval,mode=\"eval\")\n",
    "list_df_tt_eval = return_result(path_TT_eval,mode=\"eval\")"
   ]
  },
  {
   "cell_type": "code",
   "execution_count": 14,
   "id": "c24fe383-f224-4118-b4c6-348900e55c43",
   "metadata": {},
   "outputs": [],
   "source": [
    "summary_dt_eval = pd.DataFrame({\n",
    "    'mean': list_df_dt_eval.mean(),\n",
    "    'std': list_df_dt_eval.std()\n",
    "})\n",
    "summary_tt_eval = pd.DataFrame({\n",
    "    'mean': list_df_tt_eval.mean(),\n",
    "    'std': list_df_tt_eval.std()\n",
    "})\n",
    "summary_combined_eval = pd.merge(summary_dt_eval, summary_tt_eval, left_index=True, right_index=True)\n",
    "summary_combined_eval.columns = [\"mean_dt\",\"std_dt\",\"mean_tt\",\"std_tt\"]"
   ]
  },
  {
   "cell_type": "code",
   "execution_count": 15,
   "id": "ac929dab-8365-4017-86be-c4a2550b409a",
   "metadata": {},
   "outputs": [],
   "source": [
    "\n",
    "summary_combined_eval[\"RBC\"] = [0.974,0.871,0.816,0.967,0.794,0.869,0.966,0.908,1.207]"
   ]
  },
  {
   "cell_type": "code",
   "execution_count": 16,
   "id": "4d120f85-f305-4692-9d9c-f1f74700b3ee",
   "metadata": {},
   "outputs": [
    {
     "data": {
      "text/html": [
       "<div>\n",
       "<style scoped>\n",
       "    .dataframe tbody tr th:only-of-type {\n",
       "        vertical-align: middle;\n",
       "    }\n",
       "\n",
       "    .dataframe tbody tr th {\n",
       "        vertical-align: top;\n",
       "    }\n",
       "\n",
       "    .dataframe thead th {\n",
       "        text-align: right;\n",
       "    }\n",
       "</style>\n",
       "<table border=\"1\" class=\"dataframe\">\n",
       "  <thead>\n",
       "    <tr style=\"text-align: right;\">\n",
       "      <th></th>\n",
       "      <th>mean_dt</th>\n",
       "      <th>std_dt</th>\n",
       "      <th>mean_tt</th>\n",
       "      <th>std_tt</th>\n",
       "      <th>RBC</th>\n",
       "    </tr>\n",
       "  </thead>\n",
       "  <tbody>\n",
       "    <tr>\n",
       "      <th>all_time_peak_average</th>\n",
       "      <td>0.960617</td>\n",
       "      <td>0.036083</td>\n",
       "      <td>0.971023</td>\n",
       "      <td>0.013389</td>\n",
       "      <td>0.974</td>\n",
       "    </tr>\n",
       "    <tr>\n",
       "      <th>carbon_emissions_total</th>\n",
       "      <td>0.874565</td>\n",
       "      <td>0.001382</td>\n",
       "      <td>0.874662</td>\n",
       "      <td>0.001763</td>\n",
       "      <td>0.871</td>\n",
       "    </tr>\n",
       "    <tr>\n",
       "      <th>cost_total</th>\n",
       "      <td>0.822799</td>\n",
       "      <td>0.004595</td>\n",
       "      <td>0.814267</td>\n",
       "      <td>0.000779</td>\n",
       "      <td>0.816</td>\n",
       "    </tr>\n",
       "    <tr>\n",
       "      <th>daily_one_minus_load_factor_average</th>\n",
       "      <td>0.972666</td>\n",
       "      <td>0.002789</td>\n",
       "      <td>0.965894</td>\n",
       "      <td>0.002233</td>\n",
       "      <td>0.967</td>\n",
       "    </tr>\n",
       "    <tr>\n",
       "      <th>daily_peak_average</th>\n",
       "      <td>0.801772</td>\n",
       "      <td>0.004487</td>\n",
       "      <td>0.800871</td>\n",
       "      <td>0.003493</td>\n",
       "      <td>0.794</td>\n",
       "    </tr>\n",
       "    <tr>\n",
       "      <th>electricity_consumption_total</th>\n",
       "      <td>0.871017</td>\n",
       "      <td>0.001146</td>\n",
       "      <td>0.874854</td>\n",
       "      <td>0.002222</td>\n",
       "      <td>0.869</td>\n",
       "    </tr>\n",
       "    <tr>\n",
       "      <th>monthly_one_minus_load_factor_average</th>\n",
       "      <td>0.970418</td>\n",
       "      <td>0.002371</td>\n",
       "      <td>0.964136</td>\n",
       "      <td>0.003253</td>\n",
       "      <td>0.966</td>\n",
       "    </tr>\n",
       "    <tr>\n",
       "      <th>ramping_average</th>\n",
       "      <td>0.911596</td>\n",
       "      <td>0.004307</td>\n",
       "      <td>0.918827</td>\n",
       "      <td>0.001345</td>\n",
       "      <td>0.908</td>\n",
       "    </tr>\n",
       "    <tr>\n",
       "      <th>zero_net_energy</th>\n",
       "      <td>1.208654</td>\n",
       "      <td>0.006651</td>\n",
       "      <td>1.206601</td>\n",
       "      <td>0.000685</td>\n",
       "      <td>1.207</td>\n",
       "    </tr>\n",
       "  </tbody>\n",
       "</table>\n",
       "</div>"
      ],
      "text/plain": [
       "                                        mean_dt    std_dt   mean_tt    std_tt  \\\n",
       "all_time_peak_average                  0.960617  0.036083  0.971023  0.013389   \n",
       "carbon_emissions_total                 0.874565  0.001382  0.874662  0.001763   \n",
       "cost_total                             0.822799  0.004595  0.814267  0.000779   \n",
       "daily_one_minus_load_factor_average    0.972666  0.002789  0.965894  0.002233   \n",
       "daily_peak_average                     0.801772  0.004487  0.800871  0.003493   \n",
       "electricity_consumption_total          0.871017  0.001146  0.874854  0.002222   \n",
       "monthly_one_minus_load_factor_average  0.970418  0.002371  0.964136  0.003253   \n",
       "ramping_average                        0.911596  0.004307  0.918827  0.001345   \n",
       "zero_net_energy                        1.208654  0.006651  1.206601  0.000685   \n",
       "\n",
       "                                         RBC  \n",
       "all_time_peak_average                  0.974  \n",
       "carbon_emissions_total                 0.871  \n",
       "cost_total                             0.816  \n",
       "daily_one_minus_load_factor_average    0.967  \n",
       "daily_peak_average                     0.794  \n",
       "electricity_consumption_total          0.869  \n",
       "monthly_one_minus_load_factor_average  0.966  \n",
       "ramping_average                        0.908  \n",
       "zero_net_energy                        1.207  "
      ]
     },
     "execution_count": 16,
     "metadata": {},
     "output_type": "execute_result"
    }
   ],
   "source": [
    "summary_combined_eval"
   ]
  },
  {
   "cell_type": "markdown",
   "id": "163cb24e-8ecf-42bd-9f94-7112cd8cf544",
   "metadata": {},
   "source": [
    "# TEST"
   ]
  },
  {
   "cell_type": "code",
   "execution_count": 17,
   "id": "84e6f934-7607-435e-85a7-9068e094f12a",
   "metadata": {},
   "outputs": [],
   "source": [
    "list_df_dt_test = return_result(path_DT_test,mode=\"test\")\n",
    "list_df_tt_test = return_result(path_TT_test,mode=\"test\")"
   ]
  },
  {
   "cell_type": "code",
   "execution_count": 18,
   "id": "9d189f1e-9f4b-4419-908e-14645df48638",
   "metadata": {},
   "outputs": [],
   "source": [
    "summary_dt_test = pd.DataFrame({\n",
    "    'mean': list_df_dt_test.mean(),\n",
    "    'std': list_df_dt_test.std()\n",
    "})\n",
    "summary_tt_test = pd.DataFrame({\n",
    "    'mean': list_df_tt_test.mean(),\n",
    "    'std': list_df_tt_test.std()\n",
    "})\n",
    "summary_combined_test = pd.merge(summary_dt_test, summary_tt_test, left_index=True, right_index=True)\n",
    "summary_combined_test.columns = [\"mean_dt\",\"std_dt\",\"mean_tt\",\"std_tt\"]"
   ]
  },
  {
   "cell_type": "code",
   "execution_count": 19,
   "id": "59d4eb9c-c21e-4f6c-a211-ffcbdfaab86a",
   "metadata": {},
   "outputs": [],
   "source": [
    "summary_combined_test[\"RBC\"]= [0.935, 0.898, 0.854, 0.871, 0.802, 0.897, 0.947, 0.946,1.072]"
   ]
  },
  {
   "cell_type": "code",
   "execution_count": 20,
   "id": "c671a7b8-8da3-4861-a350-2fc6506bca35",
   "metadata": {},
   "outputs": [
    {
     "data": {
      "text/html": [
       "<div>\n",
       "<style scoped>\n",
       "    .dataframe tbody tr th:only-of-type {\n",
       "        vertical-align: middle;\n",
       "    }\n",
       "\n",
       "    .dataframe tbody tr th {\n",
       "        vertical-align: top;\n",
       "    }\n",
       "\n",
       "    .dataframe thead th {\n",
       "        text-align: right;\n",
       "    }\n",
       "</style>\n",
       "<table border=\"1\" class=\"dataframe\">\n",
       "  <thead>\n",
       "    <tr style=\"text-align: right;\">\n",
       "      <th></th>\n",
       "      <th>mean_dt</th>\n",
       "      <th>std_dt</th>\n",
       "      <th>mean_tt</th>\n",
       "      <th>std_tt</th>\n",
       "      <th>RBC</th>\n",
       "    </tr>\n",
       "  </thead>\n",
       "  <tbody>\n",
       "    <tr>\n",
       "      <th>all_time_peak_average</th>\n",
       "      <td>0.917329</td>\n",
       "      <td>0.013076</td>\n",
       "      <td>0.913001</td>\n",
       "      <td>0.029250</td>\n",
       "      <td>0.935</td>\n",
       "    </tr>\n",
       "    <tr>\n",
       "      <th>carbon_emissions_total</th>\n",
       "      <td>0.965907</td>\n",
       "      <td>0.002011</td>\n",
       "      <td>0.965327</td>\n",
       "      <td>0.001146</td>\n",
       "      <td>0.898</td>\n",
       "    </tr>\n",
       "    <tr>\n",
       "      <th>cost_total</th>\n",
       "      <td>0.927283</td>\n",
       "      <td>0.002338</td>\n",
       "      <td>0.915109</td>\n",
       "      <td>0.001044</td>\n",
       "      <td>0.854</td>\n",
       "    </tr>\n",
       "    <tr>\n",
       "      <th>daily_one_minus_load_factor_average</th>\n",
       "      <td>0.882931</td>\n",
       "      <td>0.003904</td>\n",
       "      <td>0.872613</td>\n",
       "      <td>0.001166</td>\n",
       "      <td>0.871</td>\n",
       "    </tr>\n",
       "    <tr>\n",
       "      <th>daily_peak_average</th>\n",
       "      <td>0.824791</td>\n",
       "      <td>0.005003</td>\n",
       "      <td>0.813151</td>\n",
       "      <td>0.001731</td>\n",
       "      <td>0.802</td>\n",
       "    </tr>\n",
       "    <tr>\n",
       "      <th>electricity_consumption_total</th>\n",
       "      <td>0.964768</td>\n",
       "      <td>0.001933</td>\n",
       "      <td>0.964926</td>\n",
       "      <td>0.001486</td>\n",
       "      <td>0.897</td>\n",
       "    </tr>\n",
       "    <tr>\n",
       "      <th>monthly_one_minus_load_factor_average</th>\n",
       "      <td>0.947089</td>\n",
       "      <td>0.002974</td>\n",
       "      <td>0.948420</td>\n",
       "      <td>0.001150</td>\n",
       "      <td>0.947</td>\n",
       "    </tr>\n",
       "    <tr>\n",
       "      <th>ramping_average</th>\n",
       "      <td>0.972230</td>\n",
       "      <td>0.009164</td>\n",
       "      <td>0.991155</td>\n",
       "      <td>0.008061</td>\n",
       "      <td>0.946</td>\n",
       "    </tr>\n",
       "    <tr>\n",
       "      <th>zero_net_energy</th>\n",
       "      <td>1.075006</td>\n",
       "      <td>0.004287</td>\n",
       "      <td>1.077872</td>\n",
       "      <td>0.000431</td>\n",
       "      <td>1.072</td>\n",
       "    </tr>\n",
       "  </tbody>\n",
       "</table>\n",
       "</div>"
      ],
      "text/plain": [
       "                                        mean_dt    std_dt   mean_tt    std_tt  \\\n",
       "all_time_peak_average                  0.917329  0.013076  0.913001  0.029250   \n",
       "carbon_emissions_total                 0.965907  0.002011  0.965327  0.001146   \n",
       "cost_total                             0.927283  0.002338  0.915109  0.001044   \n",
       "daily_one_minus_load_factor_average    0.882931  0.003904  0.872613  0.001166   \n",
       "daily_peak_average                     0.824791  0.005003  0.813151  0.001731   \n",
       "electricity_consumption_total          0.964768  0.001933  0.964926  0.001486   \n",
       "monthly_one_minus_load_factor_average  0.947089  0.002974  0.948420  0.001150   \n",
       "ramping_average                        0.972230  0.009164  0.991155  0.008061   \n",
       "zero_net_energy                        1.075006  0.004287  1.077872  0.000431   \n",
       "\n",
       "                                         RBC  \n",
       "all_time_peak_average                  0.935  \n",
       "carbon_emissions_total                 0.898  \n",
       "cost_total                             0.854  \n",
       "daily_one_minus_load_factor_average    0.871  \n",
       "daily_peak_average                     0.802  \n",
       "electricity_consumption_total          0.897  \n",
       "monthly_one_minus_load_factor_average  0.947  \n",
       "ramping_average                        0.946  \n",
       "zero_net_energy                        1.072  "
      ]
     },
     "execution_count": 20,
     "metadata": {},
     "output_type": "execute_result"
    }
   ],
   "source": [
    "summary_combined_test"
   ]
  },
  {
   "cell_type": "markdown",
   "id": "3c894a7e-9d43-4ce4-b1a9-dcc31ba9ae6d",
   "metadata": {},
   "source": [
    "## Time Series Analysis"
   ]
  },
  {
   "cell_type": "code",
   "execution_count": null,
   "id": "c34f6a64-eec1-4085-bef8-c3cbc0212fea",
   "metadata": {},
   "outputs": [],
   "source": [
    "\n",
    "def return_result_ts(path,mode=\"train\"):\n",
    "    data= []\n",
    "    list_df =[]\n",
    "    for i in range(1,6):\n",
    "        df = pd.read_csv(path + mode +\"_TS_{}.csv\".format(i),index_col = 0)\n",
    "        #df = df[df.level == \"district\"]\n",
    "        #value_ = df.loc[important_metrics][\"value\"].tolist()\n",
    "        #data.append(value_)\n",
    "        #df_full = pd.DataFrame(data,columns= important_metrics)\n",
    "        list_df.append(df)\n",
    "    \n",
    "    combined_df = pd.concat(list_df,keys=range(len(list_df)))\n",
    "    grouped = combined_df.groupby(level=1)\n",
    "    # Calculate mean and standard deviation for each column\n",
    "    mean_df = grouped.mean()\n",
    "    std_df = grouped.std()\n",
    "\n",
    "    # Combine the mean and standard deviation into a single dataframe\n",
    "    result_df = pd.concat([mean_df.add_suffix('_mean'), std_df.add_suffix('_std')], axis=1)\n",
    "\n",
    "    \n",
    "    return result_df"
   ]
  },
  {
   "cell_type": "code",
   "execution_count": null,
   "id": "a7c342a7-349b-4768-a503-b6834cf4bfbc",
   "metadata": {},
   "outputs": [],
   "source": [
    "result_ts_DT= return_result_ts(path_DT_train,mode=\"train\")\n",
    "result_ts_TT = return_result_ts(path_TT_train,mode=\"train\")\n",
    "result_ts_RBC = pd.read_csv(r\"data_result/RBC/train_TS.csv\",index_col = 0)"
   ]
  },
  {
   "cell_type": "code",
   "execution_count": null,
   "id": "1c214ddc-b073-4bbf-bef2-b9c7f15f06de",
   "metadata": {},
   "outputs": [],
   "source": [
    "4.31/5.89"
   ]
  },
  {
   "cell_type": "code",
   "execution_count": null,
   "id": "18f312e3-2d94-409e-a75d-bc71fdd59895",
   "metadata": {},
   "outputs": [],
   "source": [
    "df_DT_ts_cumsum = result_ts_DT.cumsum()\n",
    "df_TT_ts_cumsum = result_ts_TT.cumsum()\n",
    "df_RBC_ts_cumsum = result_ts_RBC.cumsum()\n"
   ]
  },
  {
   "cell_type": "code",
   "execution_count": null,
   "id": "4ff445ef-407e-4c5e-af17-cdff3f59fc64",
   "metadata": {},
   "outputs": [],
   "source": [
    "df_DT_ts_short = df_DT_ts_cumsum.iloc[::10]\n",
    "df_TT_ts_short = df_TT_ts_cumsum.iloc[::10]\n",
    "df_RBC_ts_short = df_RBC_ts_cumsum.iloc[::10]\n",
    "index_ = df_DT_ts_short.index"
   ]
  },
  {
   "cell_type": "code",
   "execution_count": null,
   "id": "0b9771ee-f185-49db-8a70-fc1e4aaa778f",
   "metadata": {},
   "outputs": [],
   "source": [
    "df_TT_ts_short"
   ]
  },
  {
   "cell_type": "code",
   "execution_count": null,
   "id": "b6f95f4a-8c86-42b3-9674-9b8d1772eaf6",
   "metadata": {},
   "outputs": [],
   "source": [
    "df_RBC_ts_short"
   ]
  },
  {
   "cell_type": "code",
   "execution_count": null,
   "id": "5c4765ab-5fb0-484d-a7c5-a33926cd5cb2",
   "metadata": {},
   "outputs": [],
   "source": [
    "df_DT_ts_short"
   ]
  },
  {
   "cell_type": "code",
   "execution_count": null,
   "id": "b3560b1a-491a-4aff-add3-23af9b3ff182",
   "metadata": {},
   "outputs": [],
   "source": [
    "index_"
   ]
  },
  {
   "cell_type": "code",
   "execution_count": null,
   "id": "f5803f09-89fc-44e6-bdbe-33f2f4702f2a",
   "metadata": {},
   "outputs": [],
   "source": [
    "plt.figure(figsize=(10, 6))\n",
    "plt.plot(index_, df_DT_ts_short[\"control_cost_mean\"],  linestyle='-', color='b', label='DT')\n",
    "plt.plot(index_, df_TT_ts_short[\"control_cost_mean\"], linestyle='-', color='y', label='TT')\n",
    "plt.plot(index_, df_RBC_ts_short[\"control_cost\"], linestyle='-', color='r', label='RBC')\n",
    "\n",
    "plt.xlabel('A')\n",
    "plt.ylabel('B')\n",
    "plt.title('Plot of A vs B')\n",
    "plt.legend()\n",
    "plt.show()\n",
    "plt.close()"
   ]
  },
  {
   "cell_type": "code",
   "execution_count": null,
   "id": "0d934025-4e2a-46d6-9cff-3e4ce7d83b7c",
   "metadata": {},
   "outputs": [],
   "source": [
    "df_test = pd.read_csv(\"data_result/DT/train/train_TS_1.csv\",index_col = 0)"
   ]
  },
  {
   "cell_type": "code",
   "execution_count": null,
   "id": "01ce7ab0-0a02-44ac-9b0d-fed6fef58e46",
   "metadata": {},
   "outputs": [],
   "source": [
    "df_test[\"control_net_electricity_consumption\"] = df_test[\"control_net_electricity_consumption\"].rolling(window=df_test.shape[0],min_periods=1).sum()"
   ]
  },
  {
   "cell_type": "code",
   "execution_count": null,
   "id": "4e126f83-6d97-4e5a-9e1c-d542959041ec",
   "metadata": {},
   "outputs": [],
   "source": [
    "df_test[\"baseline_net_electricity_consumption\"] = df_test[\"baseline_net_electricity_consumption\"].rolling(window=df_test.shape[0],min_periods=1).sum()"
   ]
  },
  {
   "cell_type": "code",
   "execution_count": null,
   "id": "b0af52b0-2879-4195-bcdd-28077ab7d942",
   "metadata": {},
   "outputs": [],
   "source": [
    "df_test"
   ]
  },
  {
   "cell_type": "code",
   "execution_count": null,
   "id": "879bc161-bc01-4a36-ac9f-64d325b1955b",
   "metadata": {},
   "outputs": [],
   "source": [
    "14.153/15.929"
   ]
  },
  {
   "cell_type": "code",
   "execution_count": null,
   "id": "5b4934b2-8f82-40bb-a1e1-4f3b8253d193",
   "metadata": {},
   "outputs": [],
   "source": []
  }
 ],
 "metadata": {
  "kernelspec": {
   "display_name": "Python 3 (ipykernel)",
   "language": "python",
   "name": "python3"
  },
  "language_info": {
   "codemirror_mode": {
    "name": "ipython",
    "version": 3
   },
   "file_extension": ".py",
   "mimetype": "text/x-python",
   "name": "python",
   "nbconvert_exporter": "python",
   "pygments_lexer": "ipython3",
   "version": "3.9.12"
  }
 },
 "nbformat": 4,
 "nbformat_minor": 5
}
